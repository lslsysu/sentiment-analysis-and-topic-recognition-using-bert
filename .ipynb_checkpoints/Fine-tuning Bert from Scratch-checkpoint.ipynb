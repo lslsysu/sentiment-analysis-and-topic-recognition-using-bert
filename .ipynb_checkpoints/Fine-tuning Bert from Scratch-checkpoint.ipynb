{
 "cells": [
  {
   "cell_type": "code",
   "execution_count": 1,
   "id": "bdb95b89",
   "metadata": {},
   "outputs": [],
   "source": [
    "import torch"
   ]
  },
  {
   "cell_type": "markdown",
   "id": "47eb2af0",
   "metadata": {},
   "source": [
    "# 1 Load Vocab and Bert"
   ]
  },
  {
   "cell_type": "markdown",
   "id": "eb598541",
   "metadata": {},
   "source": [
    "由于Linux无法连接vpn，需要先设置到Hugging Face的镜像站（试了好多方法就这个有用）"
   ]
  },
  {
   "cell_type": "code",
   "execution_count": 2,
   "id": "83351964",
   "metadata": {},
   "outputs": [],
   "source": [
    "import os\n",
    "os.environ['HF_ENDPOINT'] = 'https://hf-mirror.com'"
   ]
  },
  {
   "cell_type": "code",
   "execution_count": 3,
   "id": "1059214c",
   "metadata": {},
   "outputs": [],
   "source": [
    "from transformers import AutoTokenizer, BertModel\n",
    "\n",
    "\n",
    "tokenizer = AutoTokenizer.from_pretrained(\"google-bert/bert-base-chinese\")\n",
    "model = BertModel.from_pretrained(\"google-bert/bert-base-chinese\")"
   ]
  },
  {
   "cell_type": "markdown",
   "id": "fa1ab598",
   "metadata": {},
   "source": [
    "这里如果报错，则对mkl进行降级: `conda install mkl=2024.0`\n",
    "\n",
    "之后再重新安装transformer和torch: `pip install torch transformers`"
   ]
  },
  {
   "cell_type": "markdown",
   "id": "525498e4",
   "metadata": {},
   "source": [
    "## <span style=\"color:#FF6A6A\">Step1 Construct Vocab</span>"
   ]
  },
  {
   "cell_type": "markdown",
   "id": "4c7b8f74",
   "metadata": {},
   "source": [
    "### <span style=\"color:#4682B4\">Define Vocab</span>"
   ]
  },
  {
   "cell_type": "code",
   "execution_count": 4,
   "id": "93242c1a",
   "metadata": {},
   "outputs": [],
   "source": [
    "class Vocab:\n",
    "    \"\"\"词表类\"\"\"\n",
    "    def __init__(self):\n",
    "        # 词元的list\n",
    "        self.idx_to_token = []\n",
    "        # 构建从词元到索引的字典映射\n",
    "        self.token_to_idx = {token: idx for idx, token in enumerate(self.idx_to_token)}\n",
    "                \n",
    "    def __len__(self):\n",
    "        return len(self.idx_to_token)\n",
    "\n",
    "    def __getitem__(self, tokens):\n",
    "        if not isinstance(tokens, (list, tuple)):\n",
    "            return self.token_to_idx.get(tokens)\n",
    "        return [self.__getitem__(token) for token in tokens]"
   ]
  },
  {
   "cell_type": "markdown",
   "id": "116ab3bb",
   "metadata": {},
   "source": [
    "#### <span style=\"color:#4682B4; font-size:16px\">如何构建Vocab？</span>\n",
    "\n",
    "`tokenizer.get_vocab()`保存了vocab字典（但顺序被打乱了），因此先按照词表的value对词表列表进行排序，把列表储存在`vocab.idx_to_token`中，再把列表转化为字典储存在`vocab.token_to_idx`中"
   ]
  },
  {
   "cell_type": "code",
   "execution_count": 5,
   "id": "93abe504",
   "metadata": {},
   "outputs": [],
   "source": [
    "def construct_vocab(vocab_dict):\n",
    "    vocab = Vocab()   \n",
    "    vocab.idx_to_token = [token for token, _ in sorted(vocab_dict.items(), key=lambda x: x[1])]\n",
    "    vocab.token_to_idx = {token: idx for idx, token in enumerate(vocab.idx_to_token)}\n",
    "\n",
    "    return vocab"
   ]
  },
  {
   "cell_type": "code",
   "execution_count": 6,
   "id": "005b1773",
   "metadata": {},
   "outputs": [],
   "source": [
    "vocab_dict = tokenizer.get_vocab()"
   ]
  },
  {
   "cell_type": "code",
   "execution_count": 7,
   "id": "e93ddcae",
   "metadata": {},
   "outputs": [],
   "source": [
    "vocab = construct_vocab(vocab_dict)"
   ]
  },
  {
   "cell_type": "code",
   "execution_count": 8,
   "id": "fb145bf7",
   "metadata": {},
   "outputs": [
    {
     "name": "stdout",
     "output_type": "stream",
     "text": [
      "[('[PAD]', 0), ('[unused1]', 1), ('[unused2]', 2), ('[unused3]', 3), ('[unused4]', 4), ('[unused5]', 5), ('[unused6]', 6), ('[unused7]', 7), ('[unused8]', 8), ('[unused9]', 9)]\n"
     ]
    }
   ],
   "source": [
    "# 查看词表\n",
    "print(list(vocab.token_to_idx.items())[0:10])"
   ]
  },
  {
   "cell_type": "code",
   "execution_count": 9,
   "id": "1f5452aa",
   "metadata": {},
   "outputs": [
    {
     "name": "stdout",
     "output_type": "stream",
     "text": [
      "21128\n"
     ]
    }
   ],
   "source": [
    "print(len(vocab))"
   ]
  },
  {
   "cell_type": "code",
   "execution_count": 10,
   "id": "c69f1640",
   "metadata": {},
   "outputs": [
    {
     "name": "stdout",
     "output_type": "stream",
     "text": [
      "[0, 101, 102]\n"
     ]
    }
   ],
   "source": [
    "print(vocab['[PAD]', '[CLS]', '[SEP]'])"
   ]
  },
  {
   "cell_type": "code",
   "execution_count": 11,
   "id": "ee4a403d",
   "metadata": {},
   "outputs": [
    {
     "name": "stdout",
     "output_type": "stream",
     "text": [
      "[8024, None, 2769]\n"
     ]
    }
   ],
   "source": [
    "print(vocab['，', '就是', '我'])"
   ]
  },
  {
   "cell_type": "markdown",
   "id": "564be160",
   "metadata": {},
   "source": [
    "## <span style=\"color:#FF6A6A\">Step2 Construct Bert</span>"
   ]
  },
  {
   "cell_type": "markdown",
   "id": "63ece33c",
   "metadata": {},
   "source": [
    "前面我们已经通过`model = AutoModelForMaskedLM.from_pretrained(\"google-bert/bert-base-chinese\")`加载了模型\n",
    "\n",
    "这句代码不仅定义了模型结构，还自动加载了已经预训练好的权重参数。"
   ]
  },
  {
   "cell_type": "code",
   "execution_count": 12,
   "id": "81337c21",
   "metadata": {},
   "outputs": [
    {
     "name": "stdout",
     "output_type": "stream",
     "text": [
      "BertModel(\n",
      "  (embeddings): BertEmbeddings(\n",
      "    (word_embeddings): Embedding(21128, 768, padding_idx=0)\n",
      "    (position_embeddings): Embedding(512, 768)\n",
      "    (token_type_embeddings): Embedding(2, 768)\n",
      "    (LayerNorm): LayerNorm((768,), eps=1e-12, elementwise_affine=True)\n",
      "    (dropout): Dropout(p=0.1, inplace=False)\n",
      "  )\n",
      "  (encoder): BertEncoder(\n",
      "    (layer): ModuleList(\n",
      "      (0-11): 12 x BertLayer(\n",
      "        (attention): BertAttention(\n",
      "          (self): BertSelfAttention(\n",
      "            (query): Linear(in_features=768, out_features=768, bias=True)\n",
      "            (key): Linear(in_features=768, out_features=768, bias=True)\n",
      "            (value): Linear(in_features=768, out_features=768, bias=True)\n",
      "            (dropout): Dropout(p=0.1, inplace=False)\n",
      "          )\n",
      "          (output): BertSelfOutput(\n",
      "            (dense): Linear(in_features=768, out_features=768, bias=True)\n",
      "            (LayerNorm): LayerNorm((768,), eps=1e-12, elementwise_affine=True)\n",
      "            (dropout): Dropout(p=0.1, inplace=False)\n",
      "          )\n",
      "        )\n",
      "        (intermediate): BertIntermediate(\n",
      "          (dense): Linear(in_features=768, out_features=3072, bias=True)\n",
      "          (intermediate_act_fn): GELUActivation()\n",
      "        )\n",
      "        (output): BertOutput(\n",
      "          (dense): Linear(in_features=3072, out_features=768, bias=True)\n",
      "          (LayerNorm): LayerNorm((768,), eps=1e-12, elementwise_affine=True)\n",
      "          (dropout): Dropout(p=0.1, inplace=False)\n",
      "        )\n",
      "      )\n",
      "    )\n",
      "  )\n",
      "  (pooler): BertPooler(\n",
      "    (dense): Linear(in_features=768, out_features=768, bias=True)\n",
      "    (activation): Tanh()\n",
      "  )\n",
      ")\n"
     ]
    }
   ],
   "source": [
    "# 打印模型结构\n",
    "print(model)  "
   ]
  },
  {
   "cell_type": "markdown",
   "id": "4717756a",
   "metadata": {},
   "source": [
    "#### <span style=\"color:#4682B4; font-size:16px\">bert-base-chinese模型结构：</span>"
   ]
  },
  {
   "cell_type": "code",
   "execution_count": null,
   "id": "4313eed7",
   "metadata": {},
   "outputs": [],
   "source": []
  },
  {
   "cell_type": "markdown",
   "id": "9966aab3",
   "metadata": {},
   "source": [
    "# 2 Construct Dataset"
   ]
  },
  {
   "cell_type": "markdown",
   "id": "dbeb688f",
   "metadata": {},
   "source": [
    "## <span style=\"color:#FF6A6A\">Step1 观察数据格式</span>"
   ]
  },
  {
   "cell_type": "markdown",
   "id": "6ce0e95b",
   "metadata": {},
   "source": [
    "观察train.txt文件，每行都是："
   ]
  },
  {
   "cell_type": "markdown",
   "id": "78eea941",
   "metadata": {},
   "source": [
    "“跑 了 7万5 公里 左右 拉 ， 后面 换过 刹车片 ， 方向盘 间隙 没 注意    安全性#0    操控#0”"
   ]
  },
  {
   "cell_type": "markdown",
   "id": "5e58b503",
   "metadata": {},
   "source": [
    "后面的\"安全性\", \"操控\"是第一个topic label（多标签分类），0是第二个sent label（单标签分类）"
   ]
  },
  {
   "cell_type": "markdown",
   "id": "8027334c",
   "metadata": {},
   "source": [
    "## <span style=\"color:#FF6A6A\">Step2 读取数据</span>"
   ]
  },
  {
   "cell_type": "markdown",
   "id": "a22344e7",
   "metadata": {},
   "source": [
    "多标签分类的label格式一般为mulit-hot列表，单标签分类一般就是一个值"
   ]
  },
  {
   "cell_type": "code",
   "execution_count": 13,
   "id": "406469db",
   "metadata": {},
   "outputs": [],
   "source": [
    "def load_data(file_path):\n",
    "    \"\"\"把text, topic label和sentiment label转化成列表\"\"\"\n",
    "    texts = []\n",
    "    topic_labels = []\n",
    "    sentiment_labels = []\n",
    "\n",
    "    # 以只读模式、utf-8编码打开文件为f\n",
    "    with open(file_path, 'r', encoding='utf-8') as f:\n",
    "        for line in f:\n",
    "            # 去掉行尾的换行符，并按照制表符'\\t'分割文本\n",
    "            # parts是一个list，每个元素是分割的每部分\n",
    "            parts = line.strip().split('\\t')\n",
    "            \n",
    "            # 如果遇到噪声行，则跳过\n",
    "            if len(parts) < 2:\n",
    "                continue\n",
    "\n",
    "            # text部分，读取text，并去掉所有空格\n",
    "            text = parts[0].strip().replace(\" \", \"\")  # 去空格\n",
    "            \n",
    "            # label部分，\n",
    "            labels = parts[1:]\n",
    "         \n",
    "            # 提取 topic 和 sentiment，topic label是一个列表，sentiment label是一个值\n",
    "            topic_label = []\n",
    "            sentiment_label = None\n",
    "\n",
    "            for label in labels:\n",
    "                if \"#\" in label:\n",
    "                    topic, sentiment = label.split(\"#\")\n",
    "                    topic_label.append(topic)\n",
    "                    if sentiment_label is None:\n",
    "                        sentiment_label = int(sentiment)\n",
    "\n",
    "            texts.append(text)\n",
    "            topic_labels.append(topic_label)\n",
    "            sentiment_labels.append(sentiment_label)\n",
    "\n",
    "    return texts, topic_labels, sentiment_labels"
   ]
  },
  {
   "cell_type": "code",
   "execution_count": 14,
   "id": "a51fb03b",
   "metadata": {},
   "outputs": [],
   "source": [
    "train_texts, train_topic_label, train_sentiment_label = load_data(\"./data/train.txt\")"
   ]
  },
  {
   "cell_type": "code",
   "execution_count": 15,
   "id": "90ad4a18",
   "metadata": {},
   "outputs": [
    {
     "name": "stdout",
     "output_type": "stream",
     "text": [
      "['因为森林人即将换代，这套系统没必要装在一款即将换代的车型上，因为肯定会影响价格。', '四驱价格貌似挺高的，高的可以看齐XC60了，看实车前脸有点违和感。不过大众的车应该不会差。', '斯柯达要说质量，似乎比大众要好一点，价格也低一些，用料完全一样。我听说过野帝，但没听说过你说这车。', '这玩意都是给有钱任性又不懂车的土豪用的，这价格换一次我妹夫EP020可以换三锅了', '17价格忒高，估计也就是14-15左右。', '我开始就是荣放2.5森林人2.5二选一荣放主要是底盘质感不行太硬其次是不能打开的天窗和公主坟不过价格确实便宜少了5W块', '唉，这货的价格死硬死硬的，低配版优惠1万据说已经罕有了。', '价格的话只能说一般般吧，太仓前段时间定的比你便宜！', '听过，价格太贵，但一直念念不忘', '恭喜恭喜，这个优惠不错哦！']\n",
      "[['配置'], ['配置'], ['配置'], ['配置'], ['配置'], ['配置'], ['配置'], ['配置'], ['配置'], ['配置'], ['配置'], ['配置'], ['配置'], ['配置'], ['配置'], ['配置'], ['配置'], ['配置'], ['价格'], ['配置'], ['操控'], ['操控'], ['舒适性'], ['操控'], ['操控'], ['配置'], ['配置'], ['配置'], ['油耗'], ['油耗'], ['油耗'], ['油耗'], ['油耗'], ['油耗'], ['油耗'], ['油耗'], ['油耗'], ['油耗', '动力'], ['油耗'], ['动力'], ['动力'], ['油耗'], ['油耗'], ['油耗'], ['油耗'], ['油耗'], ['油耗'], ['油耗'], ['油耗'], ['油耗']]\n",
      "[0, 1, -1, 0, -1, 0, -1, 0, 0, 0, -1, -1, 1, 0, 0, -1, 0, 0, 0, 0, 0, 0, 0, 0, 0, 0, 0, 1, 0, 0, 1, 1, 0, 0, 0, 0, 0, 1, 0, 1, -1, 1, -1, 0, 0, 0, 0, 0, 0, 1]\n"
     ]
    }
   ],
   "source": [
    "# 查看数据\n",
    "print(train_texts[0:10])\n",
    "print(train_topic_label[50:100])\n",
    "print(train_sentiment_label[50:100])"
   ]
  },
  {
   "cell_type": "markdown",
   "id": "df64133d",
   "metadata": {},
   "source": [
    "### <span style=\"color:#4682B4; font-size:16px\">为单标签分类问题的label正值化：</span>\n",
    "\n",
    "由于nn.CrossEntropyLoss() 创建的函数只能接受正值，因此要把所有的标签全部正值化，即把所有的-1转化为2"
   ]
  },
  {
   "cell_type": "code",
   "execution_count": 16,
   "id": "27067ae4",
   "metadata": {},
   "outputs": [],
   "source": [
    "train_sentiment_label = [2 if label == -1 else label for label in train_sentiment_label]"
   ]
  },
  {
   "cell_type": "code",
   "execution_count": 18,
   "id": "c303699b",
   "metadata": {},
   "outputs": [
    {
     "name": "stdout",
     "output_type": "stream",
     "text": [
      "[0, 1, 2, 0, 2, 0, 2, 0, 0, 0, 2, 2, 1, 0, 0, 2, 0, 0, 0, 0, 0, 0, 0, 0, 0, 0, 0, 1, 0, 0, 1, 1, 0, 0, 0, 0, 0, 1, 0, 1, 2, 1, 2, 0, 0, 0, 0, 0, 0, 1]\n"
     ]
    }
   ],
   "source": [
    "print(train_sentiment_label[50:100])"
   ]
  },
  {
   "cell_type": "markdown",
   "id": "ffbe69a6",
   "metadata": {},
   "source": [
    "### <span style=\"color:#4682B4; font-size:16px\">为多标签分类问题构造独热向量label：</span>\n"
   ]
  },
  {
   "cell_type": "code",
   "execution_count": 19,
   "id": "31ea2afd",
   "metadata": {},
   "outputs": [
    {
     "name": "stdout",
     "output_type": "stream",
     "text": [
      "['价格', '内饰', '动力', '外观', '安全性', '操控', '油耗', '空间', '舒适性', '配置']\n"
     ]
    }
   ],
   "source": [
    "# 标签全集\n",
    "all_labels = sorted(set(l for sample in train_topic_label for l in sample))  \n",
    "print(all_labels)"
   ]
  },
  {
   "cell_type": "code",
   "execution_count": 20,
   "id": "8f3094bd",
   "metadata": {},
   "outputs": [
    {
     "name": "stdout",
     "output_type": "stream",
     "text": [
      "[('价格', 0), ('内饰', 1), ('动力', 2), ('外观', 3), ('安全性', 4), ('操控', 5), ('油耗', 6), ('空间', 7), ('舒适性', 8), ('配置', 9)]\n"
     ]
    }
   ],
   "source": [
    "# 标签字典\n",
    "label2id = {label: idx for idx, label in enumerate(all_labels)}\n",
    "print(list(label2id.items())[0:10])"
   ]
  },
  {
   "cell_type": "code",
   "execution_count": 21,
   "id": "cdb40387",
   "metadata": {},
   "outputs": [],
   "source": [
    "multi_hot_vectors = []\n",
    "\n",
    "for labels in train_topic_label:\n",
    "    vec = torch.zeros(len(label2id), dtype=torch.float)\n",
    "    for label in labels:\n",
    "        idx = label2id[label]\n",
    "        vec[idx] = 1.0\n",
    "    multi_hot_vectors.append(vec)\n",
    "\n",
    "train_topic_label_multihot = torch.stack(multi_hot_vectors)"
   ]
  },
  {
   "cell_type": "code",
   "execution_count": 22,
   "id": "f5bdbf77",
   "metadata": {},
   "outputs": [
    {
     "name": "stdout",
     "output_type": "stream",
     "text": [
      "tensor([[0., 0., 1., 0., 0., 0., 0., 0., 0., 0.],\n",
      "        [0., 0., 0., 0., 0., 0., 1., 0., 0., 0.],\n",
      "        [0., 0., 0., 0., 0., 0., 1., 0., 0., 0.],\n",
      "        [0., 0., 0., 0., 0., 0., 1., 0., 0., 0.],\n",
      "        [0., 0., 0., 0., 0., 0., 1., 0., 0., 0.],\n",
      "        [0., 0., 0., 0., 0., 0., 1., 0., 0., 0.],\n",
      "        [0., 0., 0., 0., 0., 0., 1., 0., 0., 0.],\n",
      "        [0., 0., 0., 0., 0., 0., 1., 0., 0., 0.],\n",
      "        [0., 0., 0., 0., 0., 0., 1., 0., 0., 0.],\n",
      "        [0., 0., 0., 0., 0., 0., 1., 0., 0., 0.]])\n"
     ]
    }
   ],
   "source": [
    "print(train_topic_label_multihot[90:100])"
   ]
  },
  {
   "cell_type": "code",
   "execution_count": 23,
   "id": "29d19f2d",
   "metadata": {},
   "outputs": [],
   "source": [
    "# 封装成函数\n",
    "def encode_labels_multi_hot(topic_label):\n",
    "    \"\"\"将多标签数据转换为multi-hot编码张量\"\"\"\n",
    "    all_labels = sorted(set(l for sample in topic_label for l in sample))\n",
    "    label2id = {label: idx for idx, label in enumerate(all_labels)}\n",
    "    \n",
    "    multi_hot_vectors = []\n",
    "    for labels in topic_label:\n",
    "        vec = torch.zeros(len(label2id), dtype=torch.float)\n",
    "        for label in labels:\n",
    "            idx = label2id[label]\n",
    "            vec[idx] = 1.0\n",
    "        multi_hot_vectors.append(vec)\n",
    "\n",
    "    topic_label_multihot = torch.stack(multi_hot_vectors)\n",
    "    return topic_label_multihot"
   ]
  },
  {
   "cell_type": "code",
   "execution_count": 24,
   "id": "74d19bf8",
   "metadata": {},
   "outputs": [],
   "source": [
    "train_topic_label_multihot = encode_labels_multi_hot(train_topic_label)"
   ]
  },
  {
   "cell_type": "code",
   "execution_count": 25,
   "id": "a78bffdb",
   "metadata": {},
   "outputs": [
    {
     "name": "stdout",
     "output_type": "stream",
     "text": [
      "tensor([[0., 0., 1., 0., 0., 0., 0., 0., 0., 0.],\n",
      "        [0., 0., 0., 0., 0., 0., 1., 0., 0., 0.],\n",
      "        [0., 0., 0., 0., 0., 0., 1., 0., 0., 0.],\n",
      "        [0., 0., 0., 0., 0., 0., 1., 0., 0., 0.],\n",
      "        [0., 0., 0., 0., 0., 0., 1., 0., 0., 0.],\n",
      "        [0., 0., 0., 0., 0., 0., 1., 0., 0., 0.],\n",
      "        [0., 0., 0., 0., 0., 0., 1., 0., 0., 0.],\n",
      "        [0., 0., 0., 0., 0., 0., 1., 0., 0., 0.],\n",
      "        [0., 0., 0., 0., 0., 0., 1., 0., 0., 0.],\n",
      "        [0., 0., 0., 0., 0., 0., 1., 0., 0., 0.]])\n"
     ]
    }
   ],
   "source": [
    "print(train_topic_label_multihot[90:100])"
   ]
  },
  {
   "cell_type": "code",
   "execution_count": 26,
   "id": "598607a9",
   "metadata": {},
   "outputs": [],
   "source": [
    "# 同样的方法准备测试数据\n",
    "test_texts, test_topic_label, test_sentiment_label = load_data(\"./data/test.txt\")\n",
    "test_topic_label_multihot = encode_labels_multi_hot(test_topic_label)"
   ]
  },
  {
   "cell_type": "code",
   "execution_count": 27,
   "id": "b91384cf",
   "metadata": {},
   "outputs": [],
   "source": [
    "# 把数据打包成三元数组\n",
    "train_data = (train_texts, train_topic_label_multihot, train_sentiment_label)\n",
    "test_data = (test_texts, test_topic_label_multihot, test_sentiment_label)"
   ]
  },
  {
   "cell_type": "markdown",
   "id": "708f4f5b",
   "metadata": {},
   "source": [
    "此时，我们的`train_topic_label_multihot`和`train_sentiment_label`都已经是可以被Bert读取的格式，但`train_texts`还需要做处理，转化成能模型够读取的模式（分词+转化为vocab索引+截断和padding）"
   ]
  },
  {
   "cell_type": "markdown",
   "id": "570790ed",
   "metadata": {},
   "source": [
    "## <span style=\"color:#FF6A6A\">Step3 构建Dataset</span>"
   ]
  },
  {
   "cell_type": "markdown",
   "id": "6e09713f",
   "metadata": {},
   "source": [
    "查看每条句子中词元数量的直方图，以确定max_len："
   ]
  },
  {
   "cell_type": "code",
   "execution_count": 28,
   "id": "c8d953e0",
   "metadata": {},
   "outputs": [
    {
     "data": {
      "image/png": "[encoded data removed]",
      "text/plain": [
       "<Figure size 640x480 with 1 Axes>"
      ]
     },
     "metadata": {},
     "output_type": "display_data"
    }
   ],
   "source": [
    "import matplotlib.pyplot as plt\n",
    "import numpy as np\n",
    "\n",
    "text_lengths = [len(text) for text in train_texts]\n",
    "plt.hist(text_lengths, bins=10)\n",
    "plt.show()"
   ]
  },
  {
   "cell_type": "markdown",
   "id": "058b8755",
   "metadata": {},
   "source": [
    "也可以直接查看选择什么样max_len可以覆盖 95% 的样本"
   ]
  },
  {
   "cell_type": "code",
   "execution_count": 29,
   "id": "15b27338",
   "metadata": {},
   "outputs": [
    {
     "data": {
      "text/plain": [
       "106.04999999999927"
      ]
     },
     "execution_count": 29,
     "metadata": {},
     "output_type": "execute_result"
    }
   ],
   "source": [
    "token_lengths = [len(tokenizer.tokenize(text)) for text in train_texts]\n",
    "np.percentile(token_lengths, 95)"
   ]
  },
  {
   "cell_type": "markdown",
   "id": "c41494a5",
   "metadata": {},
   "source": [
    "### <span style=\"color:#4682B4\">① 分词：</span>"
   ]
  },
  {
   "cell_type": "markdown",
   "id": "16c9bfe6",
   "metadata": {},
   "source": [
    "最开始我们加载的`tokenizer`是HuggingFace 的分词器，也是最常见、标准的 BERT 分词方式，功能强大、可直接输出 input_ids, token_type_ids, attention_mask，不需要手动搞。"
   ]
  },
  {
   "cell_type": "code",
   "execution_count": 30,
   "id": "d988eeba",
   "metadata": {},
   "outputs": [
    {
     "name": "stdout",
     "output_type": "stream",
     "text": [
      "[['因', '为', '森', '林', '人', '即', '将', '换', '代', '，', '这', '套', '系', '统', '没', '必', '要', '装', '在', '一', '款', '即', '将', '换', '代', '的', '车', '型', '上', '，', '因', '为', '肯', '定', '会', '影', '响', '价', '格', '。'], ['四', '驱', '价', '格', '貌', '似', '挺', '高', '的', '，', '高', '的', '可', '以', '看', '齐', '[UNK]', '了', '，', '看', '实', '车', '前', '脸', '有', '点', '违', '和', '感', '。', '不', '过', '大', '众', '的', '车', '应', '该', '不', '会', '差', '。'], ['斯', '柯', '达', '要', '说', '质', '量', '，', '似', '乎', '比', '大', '众', '要', '好', '一', '点', '，', '价', '格', '也', '低', '一', '些', '，', '用', '料', '完', '全', '一', '样', '。', '我', '听', '说', '过', '野', '帝', '，', '但', '没', '听', '说', '过', '你', '说', '这', '车', '。'], ['这', '玩', '意', '都', '是', '给', '有', '钱', '任', '性', '又', '不', '懂', '车', '的', '土', '豪', '用', '的', '，', '这', '价', '格', '换', '一', '次', '我', '妹', '夫', '[UNK]', '可', '以', '换', '三', '锅', '了'], ['17', '价', '格', '忒', '高', '，', '估', '计', '也', '就', '是', '14', '-', '15', '左', '右', '。'], ['我', '开', '始', '就', '是', '荣', '放', '2', '.', '5', '森', '林', '人', '2', '.', '5', '二', '选', '一', '荣', '放', '主', '要', '是', '底', '盘', '质', '感', '不', '行', '太', '硬', '其', '次', '是', '不', '能', '打', '开', '的', '天', '窗', '和', '公', '主', '坟', '不', '过', '价', '格', '确', '实', '便', '宜', '少', '了', '[UNK]', '块'], ['唉', '，', '这', '货', '的', '价', '格', '死', '硬', '死', '硬', '的', '，', '低', '配', '版', '优', '惠', '1', '万', '据', '说', '已', '经', '罕', '有', '了', '。'], ['价', '格', '的', '话', '只', '能', '说', '一', '般', '般', '吧', '，', '太', '仓', '前', '段', '时', '间', '定', '的', '比', '你', '便', '宜', '！'], ['听', '过', '，', '价', '格', '太', '贵', '，', '但', '一', '直', '念', '念', '不', '忘'], ['恭', '喜', '恭', '喜', '，', '这', '个', '优', '惠', '不', '错', '哦', '！']]\n"
     ]
    }
   ],
   "source": [
    "all_tokens = [tokenizer.tokenize(text) for text in train_texts]\n",
    "print(all_tokens[0:10])"
   ]
  },
  {
   "cell_type": "markdown",
   "id": "8fb20508",
   "metadata": {},
   "source": [
    "### <span style=\"color:#4682B4\">② 截断和padding + 词元转化为数字索引：</span>"
   ]
  },
  {
   "cell_type": "code",
   "execution_count": 31,
   "id": "1411d2a9",
   "metadata": {},
   "outputs": [],
   "source": [
    "def truncation_padding(tokens, max_len, vocab):\n",
    "    # 截断，加上 [CLS] 和 [SEP] 总共占两个位置\n",
    "    if len(tokens) > max_len - 2:\n",
    "        tokens = tokens[:max_len - 2]\n",
    "    # 添加特殊token\n",
    "    tokens = ['[CLS]'] + tokens + ['[SEP]']\n",
    "    valid_len = len(tokens)\n",
    "    # 补充：这里，Bert模型要求的输入并不是valid_len，而是词元部分为1，<pad>部分为0的向量\n",
    "    attention_mask = torch.zeros(max_len, dtype=torch.long)\n",
    "    attention_mask[:valid_len] = 1\n",
    "    # 转为token id 并padding\n",
    "    token_ids = vocab[tokens] + [vocab['[PAD]']] * (max_len - len(tokens))\n",
    "    \n",
    "    return token_ids, attention_mask\n",
    "\n",
    "# 使用列表推导式，对all_tokens中的每个元素应用truncation_padding函数\n",
    "result = [truncation_padding(tokens, 125, vocab) for tokens in all_tokens]\n",
    "all_token_ids, all_attention_mask = zip(*result)"
   ]
  },
  {
   "cell_type": "code",
   "execution_count": 32,
   "id": "15225bc4",
   "metadata": {},
   "outputs": [],
   "source": [
    "# 把输出结果转化为张量\n",
    "all_token_ids = torch.tensor(all_token_ids, dtype=torch.long)"
   ]
  },
  {
   "cell_type": "code",
   "execution_count": 33,
   "id": "6c02567f",
   "metadata": {},
   "outputs": [
    {
     "name": "stdout",
     "output_type": "stream",
     "text": [
      "tensor([[ 101, 1728,  711, 3481, 3360,  782, 1315, 2199, 2940,  807, 8024, 6821,\n",
      "         1947, 5143, 5320, 3766, 2553, 6206, 6163, 1762,  671, 3621, 1315, 2199,\n",
      "         2940,  807, 4638, 6756, 1798,  677, 8024, 1728,  711, 5507, 2137,  833,\n",
      "         2512, 1510,  817, 3419,  511,  102,    0,    0,    0,    0,    0,    0,\n",
      "            0,    0,    0,    0,    0,    0,    0,    0,    0,    0,    0,    0,\n",
      "            0,    0,    0,    0,    0,    0,    0,    0,    0,    0,    0,    0,\n",
      "            0,    0,    0,    0,    0,    0,    0,    0,    0,    0,    0,    0,\n",
      "            0,    0,    0,    0,    0,    0,    0,    0,    0,    0,    0,    0,\n",
      "            0,    0,    0,    0,    0,    0,    0,    0,    0,    0,    0,    0,\n",
      "            0,    0,    0,    0,    0,    0,    0,    0,    0,    0,    0,    0,\n",
      "            0,    0,    0,    0,    0],\n",
      "        [ 101, 1724, 7721,  817, 3419, 6505,  849, 2923, 7770, 4638, 8024, 7770,\n",
      "         4638, 1377,  809, 4692, 7970,  100,  749, 8024, 4692, 2141, 6756, 1184,\n",
      "         5567, 3300, 4157, 6824, 1469, 2697,  511,  679, 6814, 1920,  830, 4638,\n",
      "         6756, 2418, 6421,  679,  833, 2345,  511,  102,    0,    0,    0,    0,\n",
      "            0,    0,    0,    0,    0,    0,    0,    0,    0,    0,    0,    0,\n",
      "            0,    0,    0,    0,    0,    0,    0,    0,    0,    0,    0,    0,\n",
      "            0,    0,    0,    0,    0,    0,    0,    0,    0,    0,    0,    0,\n",
      "            0,    0,    0,    0,    0,    0,    0,    0,    0,    0,    0,    0,\n",
      "            0,    0,    0,    0,    0,    0,    0,    0,    0,    0,    0,    0,\n",
      "            0,    0,    0,    0,    0,    0,    0,    0,    0,    0,    0,    0,\n",
      "            0,    0,    0,    0,    0],\n",
      "        [ 101, 3172, 3392, 6809, 6206, 6432, 6574, 7030, 8024,  849,  725, 3683,\n",
      "         1920,  830, 6206, 1962,  671, 4157, 8024,  817, 3419,  738,  856,  671,\n",
      "          763, 8024, 4500, 3160, 2130, 1059,  671, 3416,  511, 2769, 1420, 6432,\n",
      "         6814, 7029, 2370, 8024,  852, 3766, 1420, 6432, 6814,  872, 6432, 6821,\n",
      "         6756,  511,  102,    0,    0,    0,    0,    0,    0,    0,    0,    0,\n",
      "            0,    0,    0,    0,    0,    0,    0,    0,    0,    0,    0,    0,\n",
      "            0,    0,    0,    0,    0,    0,    0,    0,    0,    0,    0,    0,\n",
      "            0,    0,    0,    0,    0,    0,    0,    0,    0,    0,    0,    0,\n",
      "            0,    0,    0,    0,    0,    0,    0,    0,    0,    0,    0,    0,\n",
      "            0,    0,    0,    0,    0,    0,    0,    0,    0,    0,    0,    0,\n",
      "            0,    0,    0,    0,    0],\n",
      "        [ 101, 6821, 4381, 2692, 6963, 3221, 5314, 3300, 7178,  818, 2595, 1348,\n",
      "          679, 2743, 6756, 4638, 1759, 6498, 4500, 4638, 8024, 6821,  817, 3419,\n",
      "         2940,  671, 3613, 2769, 1987, 1923,  100, 1377,  809, 2940,  676, 7222,\n",
      "          749,  102,    0,    0,    0,    0,    0,    0,    0,    0,    0,    0,\n",
      "            0,    0,    0,    0,    0,    0,    0,    0,    0,    0,    0,    0,\n",
      "            0,    0,    0,    0,    0,    0,    0,    0,    0,    0,    0,    0,\n",
      "            0,    0,    0,    0,    0,    0,    0,    0,    0,    0,    0,    0,\n",
      "            0,    0,    0,    0,    0,    0,    0,    0,    0,    0,    0,    0,\n",
      "            0,    0,    0,    0,    0,    0,    0,    0,    0,    0,    0,    0,\n",
      "            0,    0,    0,    0,    0,    0,    0,    0,    0,    0,    0,    0,\n",
      "            0,    0,    0,    0,    0],\n",
      "        [ 101, 8126,  817, 3419, 2560, 7770, 8024,  844, 6369,  738, 2218, 3221,\n",
      "         8122,  118, 8115, 2340, 1381,  511,  102,    0,    0,    0,    0,    0,\n",
      "            0,    0,    0,    0,    0,    0,    0,    0,    0,    0,    0,    0,\n",
      "            0,    0,    0,    0,    0,    0,    0,    0,    0,    0,    0,    0,\n",
      "            0,    0,    0,    0,    0,    0,    0,    0,    0,    0,    0,    0,\n",
      "            0,    0,    0,    0,    0,    0,    0,    0,    0,    0,    0,    0,\n",
      "            0,    0,    0,    0,    0,    0,    0,    0,    0,    0,    0,    0,\n",
      "            0,    0,    0,    0,    0,    0,    0,    0,    0,    0,    0,    0,\n",
      "            0,    0,    0,    0,    0,    0,    0,    0,    0,    0,    0,    0,\n",
      "            0,    0,    0,    0,    0,    0,    0,    0,    0,    0,    0,    0,\n",
      "            0,    0,    0,    0,    0]])\n"
     ]
    }
   ],
   "source": [
    "print(all_token_ids[0:5])"
   ]
  },
  {
   "cell_type": "code",
   "execution_count": 35,
   "id": "4b86166e",
   "metadata": {},
   "outputs": [
    {
     "name": "stdout",
     "output_type": "stream",
     "text": [
      "(tensor([1, 1, 1, 1, 1, 1, 1, 1, 1, 1, 1, 1, 1, 1, 1, 1, 1, 1, 1, 1, 1, 1, 1, 1,\n",
      "        1, 1, 1, 1, 1, 1, 1, 1, 1, 1, 1, 1, 1, 1, 1, 1, 1, 1, 0, 0, 0, 0, 0, 0,\n",
      "        0, 0, 0, 0, 0, 0, 0, 0, 0, 0, 0, 0, 0, 0, 0, 0, 0, 0, 0, 0, 0, 0, 0, 0,\n",
      "        0, 0, 0, 0, 0, 0, 0, 0, 0, 0, 0, 0, 0, 0, 0, 0, 0, 0, 0, 0, 0, 0, 0, 0,\n",
      "        0, 0, 0, 0, 0, 0, 0, 0, 0, 0, 0, 0, 0, 0, 0, 0, 0, 0, 0, 0, 0, 0, 0, 0,\n",
      "        0, 0, 0, 0, 0]), tensor([1, 1, 1, 1, 1, 1, 1, 1, 1, 1, 1, 1, 1, 1, 1, 1, 1, 1, 1, 1, 1, 1, 1, 1,\n",
      "        1, 1, 1, 1, 1, 1, 1, 1, 1, 1, 1, 1, 1, 1, 1, 1, 1, 1, 1, 1, 0, 0, 0, 0,\n",
      "        0, 0, 0, 0, 0, 0, 0, 0, 0, 0, 0, 0, 0, 0, 0, 0, 0, 0, 0, 0, 0, 0, 0, 0,\n",
      "        0, 0, 0, 0, 0, 0, 0, 0, 0, 0, 0, 0, 0, 0, 0, 0, 0, 0, 0, 0, 0, 0, 0, 0,\n",
      "        0, 0, 0, 0, 0, 0, 0, 0, 0, 0, 0, 0, 0, 0, 0, 0, 0, 0, 0, 0, 0, 0, 0, 0,\n",
      "        0, 0, 0, 0, 0]), tensor([1, 1, 1, 1, 1, 1, 1, 1, 1, 1, 1, 1, 1, 1, 1, 1, 1, 1, 1, 1, 1, 1, 1, 1,\n",
      "        1, 1, 1, 1, 1, 1, 1, 1, 1, 1, 1, 1, 1, 1, 1, 1, 1, 1, 1, 1, 1, 1, 1, 1,\n",
      "        1, 1, 1, 0, 0, 0, 0, 0, 0, 0, 0, 0, 0, 0, 0, 0, 0, 0, 0, 0, 0, 0, 0, 0,\n",
      "        0, 0, 0, 0, 0, 0, 0, 0, 0, 0, 0, 0, 0, 0, 0, 0, 0, 0, 0, 0, 0, 0, 0, 0,\n",
      "        0, 0, 0, 0, 0, 0, 0, 0, 0, 0, 0, 0, 0, 0, 0, 0, 0, 0, 0, 0, 0, 0, 0, 0,\n",
      "        0, 0, 0, 0, 0]), tensor([1, 1, 1, 1, 1, 1, 1, 1, 1, 1, 1, 1, 1, 1, 1, 1, 1, 1, 1, 1, 1, 1, 1, 1,\n",
      "        1, 1, 1, 1, 1, 1, 1, 1, 1, 1, 1, 1, 1, 1, 0, 0, 0, 0, 0, 0, 0, 0, 0, 0,\n",
      "        0, 0, 0, 0, 0, 0, 0, 0, 0, 0, 0, 0, 0, 0, 0, 0, 0, 0, 0, 0, 0, 0, 0, 0,\n",
      "        0, 0, 0, 0, 0, 0, 0, 0, 0, 0, 0, 0, 0, 0, 0, 0, 0, 0, 0, 0, 0, 0, 0, 0,\n",
      "        0, 0, 0, 0, 0, 0, 0, 0, 0, 0, 0, 0, 0, 0, 0, 0, 0, 0, 0, 0, 0, 0, 0, 0,\n",
      "        0, 0, 0, 0, 0]), tensor([1, 1, 1, 1, 1, 1, 1, 1, 1, 1, 1, 1, 1, 1, 1, 1, 1, 1, 1, 0, 0, 0, 0, 0,\n",
      "        0, 0, 0, 0, 0, 0, 0, 0, 0, 0, 0, 0, 0, 0, 0, 0, 0, 0, 0, 0, 0, 0, 0, 0,\n",
      "        0, 0, 0, 0, 0, 0, 0, 0, 0, 0, 0, 0, 0, 0, 0, 0, 0, 0, 0, 0, 0, 0, 0, 0,\n",
      "        0, 0, 0, 0, 0, 0, 0, 0, 0, 0, 0, 0, 0, 0, 0, 0, 0, 0, 0, 0, 0, 0, 0, 0,\n",
      "        0, 0, 0, 0, 0, 0, 0, 0, 0, 0, 0, 0, 0, 0, 0, 0, 0, 0, 0, 0, 0, 0, 0, 0,\n",
      "        0, 0, 0, 0, 0]))\n"
     ]
    }
   ],
   "source": [
    "print(all_attention_mask[0:5])"
   ]
  },
  {
   "cell_type": "markdown",
   "id": "7d68573a",
   "metadata": {},
   "source": [
    "### <span style=\"color:#4682B4\">③ 构建Dataset：</span>"
   ]
  },
  {
   "cell_type": "code",
   "execution_count": 36,
   "id": "4c72ad21",
   "metadata": {},
   "outputs": [],
   "source": [
    "class llmstage0Dataset(torch.utils.data.Dataset):\n",
    "    def __init__(self, all_token_ids, all_attention_mask, all_topic_label, all_sentiment_label, vocab):\n",
    "        self.all_token_ids = all_token_ids\n",
    "        self.all_attention_mask = all_attention_mask\n",
    "        self.all_topic_label = torch.tensor(all_topic_label, dtype=torch.float)\n",
    "        self.all_sentiment_label = torch.tensor(all_sentiment_label, dtype=torch.long)\n",
    "        self.vocab = vocab\n",
    "        \n",
    "    def __getitem__(self, idx):\n",
    "        return (self.all_token_ids[idx], self.all_attention_mask[idx]), self.all_topic_label[idx], self.all_sentiment_label[idx]\n",
    "\n",
    "    def __len__(self):\n",
    "        return len(self.all_token_ids)"
   ]
  },
  {
   "cell_type": "markdown",
   "id": "fd2b25b2",
   "metadata": {},
   "source": [
    "Dataset的构建主要是为了使用__getitem__返回数据和label\n",
    "\n",
    "**这里我的llmstage0Dataset返回：**\n",
    "\n",
    "`self.all_token_ids[idx]`: 一个二维列表，每个元素是一个seq，每个seq是所有词元对应的vocab索引向量\n",
    "\n",
    "`self.all_attention_mask[idx]`: 一个二维列表，表示这个seq的有效长度，有效长度的位置为1，<pad>的位置为0\n",
    "\n",
    "`self.all_topic_label[idx]`: 一个二维列表，每个元素是多标签分类问题的multi-hot向量\n",
    "\n",
    "`self.all_sentiment_label[idx]`: 一个列表，每个元素是但标签分类问题的标签"
   ]
  },
  {
   "cell_type": "code",
   "execution_count": 37,
   "id": "9c4c87f5",
   "metadata": {},
   "outputs": [
    {
     "name": "stderr",
     "output_type": "stream",
     "text": [
      "/tmp/ipykernel_2868169/1055232636.py:5: UserWarning: To copy construct from a tensor, it is recommended to use sourceTensor.clone().detach() or sourceTensor.clone().detach().requires_grad_(True), rather than torch.tensor(sourceTensor).\n",
      "  self.all_topic_label = torch.tensor(all_topic_label, dtype=torch.float)\n"
     ]
    }
   ],
   "source": [
    "train_dataset = llmstage0Dataset(all_token_ids, all_attention_mask, train_topic_label_multihot, train_sentiment_label, vocab)"
   ]
  },
  {
   "cell_type": "code",
   "execution_count": 38,
   "id": "98832831",
   "metadata": {},
   "outputs": [
    {
     "name": "stdout",
     "output_type": "stream",
     "text": [
      "((tensor([ 101, 1728,  711, 3481, 3360,  782, 1315, 2199, 2940,  807, 8024, 6821,\n",
      "        1947, 5143, 5320, 3766, 2553, 6206, 6163, 1762,  671, 3621, 1315, 2199,\n",
      "        2940,  807, 4638, 6756, 1798,  677, 8024, 1728,  711, 5507, 2137,  833,\n",
      "        2512, 1510,  817, 3419,  511,  102,    0,    0,    0,    0,    0,    0,\n",
      "           0,    0,    0,    0,    0,    0,    0,    0,    0,    0,    0,    0,\n",
      "           0,    0,    0,    0,    0,    0,    0,    0,    0,    0,    0,    0,\n",
      "           0,    0,    0,    0,    0,    0,    0,    0,    0,    0,    0,    0,\n",
      "           0,    0,    0,    0,    0,    0,    0,    0,    0,    0,    0,    0,\n",
      "           0,    0,    0,    0,    0,    0,    0,    0,    0,    0,    0,    0,\n",
      "           0,    0,    0,    0,    0,    0,    0,    0,    0,    0,    0,    0,\n",
      "           0,    0,    0,    0,    0]), tensor([1, 1, 1, 1, 1, 1, 1, 1, 1, 1, 1, 1, 1, 1, 1, 1, 1, 1, 1, 1, 1, 1, 1, 1,\n",
      "        1, 1, 1, 1, 1, 1, 1, 1, 1, 1, 1, 1, 1, 1, 1, 1, 1, 1, 0, 0, 0, 0, 0, 0,\n",
      "        0, 0, 0, 0, 0, 0, 0, 0, 0, 0, 0, 0, 0, 0, 0, 0, 0, 0, 0, 0, 0, 0, 0, 0,\n",
      "        0, 0, 0, 0, 0, 0, 0, 0, 0, 0, 0, 0, 0, 0, 0, 0, 0, 0, 0, 0, 0, 0, 0, 0,\n",
      "        0, 0, 0, 0, 0, 0, 0, 0, 0, 0, 0, 0, 0, 0, 0, 0, 0, 0, 0, 0, 0, 0, 0, 0,\n",
      "        0, 0, 0, 0, 0])), tensor([1., 0., 0., 0., 0., 0., 0., 0., 0., 0.]), tensor(0))\n"
     ]
    }
   ],
   "source": [
    "print(train_dataset[0])"
   ]
  },
  {
   "cell_type": "markdown",
   "id": "5f3d1646",
   "metadata": {},
   "source": [
    "### <span style=\"color:#4682B4\">④ 整合Dataset代码：</span>"
   ]
  },
  {
   "cell_type": "markdown",
   "id": "4df51c98",
   "metadata": {},
   "source": [
    "把分词、截断、构建Dataset类整合进一个类中，输入的数据格式是：`train_data = (train_texts, train_topic_label_multihot, train_sentiment_label)`"
   ]
  },
  {
   "cell_type": "code",
   "execution_count": 39,
   "id": "ea52ddb0",
   "metadata": {},
   "outputs": [],
   "source": [
    "class llmstage0Dataset_v2(torch.utils.data.Dataset):\n",
    "    def __init__(self, data, max_len, tokenizer, vocab):\n",
    "        # read input data\n",
    "        all_texts = data[0]\n",
    "        self.max_len = max_len\n",
    "        self.all_topic_labels = torch.tensor(data[1], dtype=torch.long)\n",
    "        self.all_sentiment_labels = torch.tensor(data[2], dtype=torch.long)\n",
    "        self.vocab = vocab\n",
    "        \n",
    "        # tokenize\n",
    "        all_tokens = [tokenizer.tokenize(text) for text in all_texts]\n",
    "        \n",
    "        # construct features \n",
    "        (self.all_token_ids, self.all_attention_mask) = zip(*[self.data_preprocess(tokens, max_len, vocab) for tokens in all_tokens])\n",
    "        \n",
    "    def data_preprocess(self, tokens, max_len, vocab):\n",
    "        \"\"\"Tokenize + Truncate and Padding + Text to Token IDs\"\"\"\n",
    "        # truncate\n",
    "        if len(tokens) > max_len - 2:\n",
    "            tokens = tokens[:max_len - 2]\n",
    "        # add special token\n",
    "        tokens = ['[CLS]'] + tokens + ['[SEP]']\n",
    "        valid_len = len(tokens)\n",
    "        attention_mask = torch.zeros(max_len, dtype=torch.long)\n",
    "        attention_mask[:valid_len] = 1\n",
    "        # Text to Token IDs + Padding\n",
    "        token_ids = vocab[tokens] + [vocab['[PAD]']] * (max_len - len(tokens))\n",
    "        \n",
    "        token_ids = torch.tensor(token_ids, dtype=torch.long)\n",
    "        valid_len = torch.tensor(valid_len, dtype=torch.long)\n",
    "        \n",
    "        return token_ids, attention_mask\n",
    "        \n",
    "        \n",
    "    def __getitem__(self, idx):\n",
    "        return (self.all_token_ids[idx], self.all_attention_mask[idx]), self.all_topic_labels[idx], self.all_sentiment_labels[idx]\n",
    "\n",
    "    def __len__(self):\n",
    "        return len(self.all_token_ids)"
   ]
  },
  {
   "cell_type": "code",
   "execution_count": 40,
   "id": "2e1b1566",
   "metadata": {},
   "outputs": [
    {
     "name": "stderr",
     "output_type": "stream",
     "text": [
      "/tmp/ipykernel_2868169/4115208084.py:6: UserWarning: To copy construct from a tensor, it is recommended to use sourceTensor.clone().detach() or sourceTensor.clone().detach().requires_grad_(True), rather than torch.tensor(sourceTensor).\n",
      "  self.all_topic_labels = torch.tensor(data[1], dtype=torch.long)\n"
     ]
    }
   ],
   "source": [
    "train_dataset = llmstage0Dataset_v2(train_data, max_len = 125, tokenizer = tokenizer, vocab = vocab)\n",
    "test_dataset = llmstage0Dataset_v2(test_data, max_len = 125, tokenizer = tokenizer, vocab = vocab)"
   ]
  },
  {
   "cell_type": "code",
   "execution_count": 41,
   "id": "82633163",
   "metadata": {},
   "outputs": [
    {
     "name": "stdout",
     "output_type": "stream",
     "text": [
      "((tensor([ 101, 1728,  711, 3481, 3360,  782, 1315, 2199, 2940,  807, 8024, 6821,\n",
      "        1947, 5143, 5320, 3766, 2553, 6206, 6163, 1762,  671, 3621, 1315, 2199,\n",
      "        2940,  807, 4638, 6756, 1798,  677, 8024, 1728,  711, 5507, 2137,  833,\n",
      "        2512, 1510,  817, 3419,  511,  102,    0,    0,    0,    0,    0,    0,\n",
      "           0,    0,    0,    0,    0,    0,    0,    0,    0,    0,    0,    0,\n",
      "           0,    0,    0,    0,    0,    0,    0,    0,    0,    0,    0,    0,\n",
      "           0,    0,    0,    0,    0,    0,    0,    0,    0,    0,    0,    0,\n",
      "           0,    0,    0,    0,    0,    0,    0,    0,    0,    0,    0,    0,\n",
      "           0,    0,    0,    0,    0,    0,    0,    0,    0,    0,    0,    0,\n",
      "           0,    0,    0,    0,    0,    0,    0,    0,    0,    0,    0,    0,\n",
      "           0,    0,    0,    0,    0]), tensor([1, 1, 1, 1, 1, 1, 1, 1, 1, 1, 1, 1, 1, 1, 1, 1, 1, 1, 1, 1, 1, 1, 1, 1,\n",
      "        1, 1, 1, 1, 1, 1, 1, 1, 1, 1, 1, 1, 1, 1, 1, 1, 1, 1, 0, 0, 0, 0, 0, 0,\n",
      "        0, 0, 0, 0, 0, 0, 0, 0, 0, 0, 0, 0, 0, 0, 0, 0, 0, 0, 0, 0, 0, 0, 0, 0,\n",
      "        0, 0, 0, 0, 0, 0, 0, 0, 0, 0, 0, 0, 0, 0, 0, 0, 0, 0, 0, 0, 0, 0, 0, 0,\n",
      "        0, 0, 0, 0, 0, 0, 0, 0, 0, 0, 0, 0, 0, 0, 0, 0, 0, 0, 0, 0, 0, 0, 0, 0,\n",
      "        0, 0, 0, 0, 0])), tensor([1, 0, 0, 0, 0, 0, 0, 0, 0, 0]), tensor(0))\n",
      "((tensor([ 101,  100, 3300, 6756, 4683, 4638, 1059, 3198, 1724, 7721, 4638, 3616,\n",
      "        5905, 2548, 4281, 6873,  679, 8013, 4294, 1166, 1962, 1936,  102,    0,\n",
      "           0,    0,    0,    0,    0,    0,    0,    0,    0,    0,    0,    0,\n",
      "           0,    0,    0,    0,    0,    0,    0,    0,    0,    0,    0,    0,\n",
      "           0,    0,    0,    0,    0,    0,    0,    0,    0,    0,    0,    0,\n",
      "           0,    0,    0,    0,    0,    0,    0,    0,    0,    0,    0,    0,\n",
      "           0,    0,    0,    0,    0,    0,    0,    0,    0,    0,    0,    0,\n",
      "           0,    0,    0,    0,    0,    0,    0,    0,    0,    0,    0,    0,\n",
      "           0,    0,    0,    0,    0,    0,    0,    0,    0,    0,    0,    0,\n",
      "           0,    0,    0,    0,    0,    0,    0,    0,    0,    0,    0,    0,\n",
      "           0,    0,    0,    0,    0]), tensor([1, 1, 1, 1, 1, 1, 1, 1, 1, 1, 1, 1, 1, 1, 1, 1, 1, 1, 1, 1, 1, 1, 1, 0,\n",
      "        0, 0, 0, 0, 0, 0, 0, 0, 0, 0, 0, 0, 0, 0, 0, 0, 0, 0, 0, 0, 0, 0, 0, 0,\n",
      "        0, 0, 0, 0, 0, 0, 0, 0, 0, 0, 0, 0, 0, 0, 0, 0, 0, 0, 0, 0, 0, 0, 0, 0,\n",
      "        0, 0, 0, 0, 0, 0, 0, 0, 0, 0, 0, 0, 0, 0, 0, 0, 0, 0, 0, 0, 0, 0, 0, 0,\n",
      "        0, 0, 0, 0, 0, 0, 0, 0, 0, 0, 0, 0, 0, 0, 0, 0, 0, 0, 0, 0, 0, 0, 0, 0,\n",
      "        0, 0, 0, 0, 0])), tensor([0, 0, 0, 0, 0, 1, 0, 0, 0, 0]), tensor(0))\n"
     ]
    }
   ],
   "source": [
    "print(train_dataset[0])\n",
    "print(test_dataset[0])"
   ]
  },
  {
   "cell_type": "markdown",
   "id": "ddfbf071",
   "metadata": {},
   "source": [
    "### <span style=\"color:#4682B4\">⑤ 构建DataLoader：</span>"
   ]
  },
  {
   "cell_type": "code",
   "execution_count": 42,
   "id": "d3d08848",
   "metadata": {},
   "outputs": [],
   "source": [
    "batch_size = 256"
   ]
  },
  {
   "cell_type": "code",
   "execution_count": 43,
   "id": "f234719d",
   "metadata": {},
   "outputs": [],
   "source": [
    "train_iter = torch.utils.data.DataLoader(train_dataset, batch_size, shuffle = True)\n",
    "test_iter = torch.utils.data.DataLoader(test_dataset, batch_size, shuffle = False)"
   ]
  },
  {
   "cell_type": "code",
   "execution_count": 44,
   "id": "3b35415d",
   "metadata": {},
   "outputs": [
    {
     "name": "stdout",
     "output_type": "stream",
     "text": [
      "torch.Size([256, 125])\n",
      "torch.Size([256, 125])\n",
      "torch.Size([256, 10])\n",
      "torch.Size([256])\n"
     ]
    }
   ],
   "source": [
    "# 查看DataLoader\n",
    "for X, y, z in train_iter:\n",
    "    print(X[0].shape)\n",
    "    print(X[1].shape)\n",
    "    print(y.shape)\n",
    "    print(z.shape)\n",
    "    break"
   ]
  },
  {
   "cell_type": "markdown",
   "id": "9439952e",
   "metadata": {},
   "source": [
    "#### <span style=\"color:#4682B4; font-size:16px\">DataLoader数据的格式（Bert输入数据的格式）：</span>\n",
    "\n",
    "X = (token_ids, valid_len)\n",
    "\n",
    "- `token_ids` 每句话的 token id 序列（包括 `<cls>`, `<sep>` 等）\n",
    "\n",
    "- `attention_mask` 每个样本实际的有效 token 长度向量，有效部分为1，`<pad>`部分为0\n",
    "\n",
    "y = topic_labels\n",
    "\n",
    "- `topic_labels ` 每个样本的topic_labels是一个multi-hot的向量\n",
    "\n",
    "z = sentiment_labels\n",
    "\n",
    "- `sentiment_labels` 取值通常为 0、1、-1表示中立、正向、负向。\n",
    "\n",
    "所以每个样本是一个三元组输入 + 一个标签。"
   ]
  },
  {
   "cell_type": "markdown",
   "id": "05245360",
   "metadata": {},
   "source": [
    "# 3 Construct Bert Model "
   ]
  },
  {
   "cell_type": "markdown",
   "id": "f2ce99e6",
   "metadata": {},
   "source": [
    "构建一个“多任务学习”Bert微调模型，自定义额外的神经网络层接到bert-base-chinese上"
   ]
  },
  {
   "cell_type": "code",
   "execution_count": 47,
   "id": "24654cf3",
   "metadata": {},
   "outputs": [],
   "source": [
    "import torch.nn as nn\n",
    "\n",
    "class MultiTaskBERT(nn.Module):\n",
    "    def __init__(self, num_topic_labels, num_sentiment_labels, dropout = 0.1):\n",
    "        super(MultiTaskBERT, self).__init__()\n",
    "        # pre-trained Bert\n",
    "        self.bert = BertModel.from_pretrained(\"google-bert/bert-base-chinese\")\n",
    "        self.dropout = nn.Dropout(dropout)\n",
    "        # 两个任务的神经网络层\n",
    "        self.topic_classifier = nn.Linear(self.bert.config.hidden_size, num_topic_labels)\n",
    "        self.sentiment_classifier = nn.Linear(self.bert.config.hidden_size, num_sentiment_labels)\n",
    "        self.relu = nn.ReLU()\n",
    "        \n",
    "    def forward(self, token_ids, attention_mask):\n",
    "        # 获取BERT的输出\n",
    "        outputs = self.bert(input_ids=token_ids, attention_mask=attention_mask)\n",
    "        # 获取最后一层隐藏状态（last_hidden_state），并选择[CLS] token的表示\n",
    "        cls_output = outputs.last_hidden_state[:, 0, :]\n",
    "        # 暂退层\n",
    "        # dropout_output = self.dropout(cls_output)\n",
    "        # 任务特定的输出层\n",
    "        topic_output = self.topic_classifier(cls_output)       \n",
    "        sentiment_output = self.sentiment_classifier(cls_output)\n",
    "        \n",
    "        return topic_output, sentiment_output\n",
    "        "
   ]
  },
  {
   "cell_type": "markdown",
   "id": "ef9a32d0",
   "metadata": {},
   "source": [
    "### <span style=\"color:#4682B4\">MultiTaskBERT类详解（`__init__`函数部分）：</span>\n",
    "\n",
    "`self.topic_classifier = nn.Linear(self.bert.config.hidden_size, num_topic_labels)`\n",
    "\n",
    "`self.sentiment_classifier = nn.Linear(self.bert.config.hidden_size, num_sentiment_labels)`\n",
    "\n",
    "- 在预训练的Bert的输出层上接了两个任务头，分别用于主题分类（多标签分类）和情感分析（单标签分类）任务\n",
    "\n",
    "\n",
    "### <span style=\"color:#4682B4\">MultiTaskBERT类详解（`forward`函数-自定义head部分）：</span>\n",
    "\n",
    "`outputs = self.bert(input_ids=token_ids, attention_mask=attention_mask)` \n",
    "\n",
    "- 是 BERT 模型的一个输出，通常用于表示整个句子的向量表示。形状为[batch_size, hidden_size]\n",
    "\n",
    "`cls_output = outputs.last_hidden_state[:, 0, :]`\n",
    "\n",
    "选择 BERT 输出的最后一层的第一个 token（[CLS] token）作为句子的表示，last_hidden_state 是一个 3D 张量，表示每个 token 的隐藏状态。[:, 0, :] 表示取出每个样本的 [CLS] token 对应的隐藏状态。\n",
    "\n",
    "`topic_output = self.topic_classifier(pooled_output)`\n",
    "\n",
    "`sentiment_output = self.sentiment_classifier(pooled_output)`\n",
    "\n",
    "- 把 [CLS] 对应的输出的结果输入到topic_classifier和sentiment_classifier两个网络进行传播\n"
   ]
  },
  {
   "cell_type": "markdown",
   "id": "e4171772",
   "metadata": {},
   "source": [
    "### <span style=\"color:#4682B4\">MultiTaskBERT模型输入：</span>\n",
    "\n",
    "`input_ids`:\n",
    "\n",
    "这是经过分词处理的输入序列，形状为 (batch_size, seq_len)。\n",
    "\n",
    "它包含了一个整数值的张量，每个值代表了分词后的标记的 ID，通常是通过 BERT 分词器对文本进行标记化得到的。\n",
    "\n",
    "`attention_mask`:\n",
    "\n",
    "形状为 (batch_size, seq_len) 的张量，每个值是 1（表示该标记需要参与注意力计算）或 0（表示该标记需要忽略，通常是填充标记）。\n",
    "\n",
    "它用于防止模型关注到填充的标记（padding tokens）。\n",
    "\n",
    "\n",
    "### <span style=\"color:#4682B4\">MultiTaskBERT模型forward输出：</span>\n",
    "\n",
    "`topic_output`:\n",
    "\n",
    "主题分类层输出（用于主题预测任务）。\n",
    "\n",
    "形状为 (batch_size, num_topic_labels)，其中 num_topic_labels 是你要预测的不同主题的数量，表示模型预测的不同主题的概率分布\n",
    "\n",
    "`sentiment_output`:\n",
    "\n",
    "经过 ReLU 激活函数的情感分类层输出（用于情感预测任务）。\n",
    "\n",
    "形状为 (batch_size, num_sentiment_labels)，其中 num_sentiment_labels 是你要预测的情感类别的数量（例如，正面、负面、中性），表示模型预测的不同情感的概率分布"
   ]
  },
  {
   "cell_type": "markdown",
   "id": "cea1a776",
   "metadata": {},
   "source": [
    "# 4 Train Model"
   ]
  },
  {
   "cell_type": "markdown",
   "id": "e1da5653",
   "metadata": {},
   "source": [
    "## <span style=\"color:#FF6A6A\">① 评估结果好坏的指标：</span>"
   ]
  },
  {
   "cell_type": "markdown",
   "id": "26847142",
   "metadata": {},
   "source": [
    "单标签分类问题时的各指标计算函数"
   ]
  },
  {
   "cell_type": "code",
   "execution_count": 65,
   "id": "a973db60",
   "metadata": {},
   "outputs": [],
   "source": [
    "# 计算准确率\n",
    "def accuracy_score(y_true, y_pred, isMultiLabel):\n",
    "    if isMultiLabel == False:\n",
    "        return (y_true == y_pred).sum().item() / len(y_true)\n",
    "    else:\n",
    "        correct = (y_true == y_pred).float()  # 对于每个标签，1 表示正确，0 表示错误\n",
    "        accuracy = correct.sum() / correct.numel()  # 求平均，计算所有标签的准确度\n",
    "        return accuracy.item()"
   ]
  },
  {
   "cell_type": "code",
   "execution_count": 67,
   "id": "cb79b09e",
   "metadata": {},
   "outputs": [],
   "source": [
    "# 计算精确率\n",
    "def precision_score_single(y_true, y_pred, num_classes):\n",
    "    precision = torch.zeros(num_classes).to(y_true.device)\n",
    "    for i in range(num_classes):\n",
    "        tp = ((y_pred == i) & (y_true == i)).sum().item()\n",
    "        fp = ((y_pred == i) & (y_true != i)).sum().item()\n",
    "        precision[i] = tp / (tp + fp) if tp + fp > 0 else 0\n",
    "    return precision.mean().item()\n",
    "\n",
    "def precision_score_multi(y_true, y_pred, num_classes):\n",
    "    precision = torch.zeros(num_classes).to(y_true.device)\n",
    "    for i in range(num_classes):\n",
    "        tp = ((y_pred[:, i] == 1) & (y_true[:, i] == 1)).sum().item()\n",
    "        fp = ((y_pred[:, i] == 1) & (y_true[:, i] == 0)).sum().item()\n",
    "        precision[i] = tp / (tp + fp) if tp + fp > 0 else 0\n",
    "    return precision.mean().item()\n",
    "\n",
    "def precision_score(y_true, y_pred, num_classes, isMultiLabel):\n",
    "    if isMultiLabel == False:\n",
    "        return precision_score_single(y_true, y_pred, num_classes)\n",
    "    else:\n",
    "        return precision_score_multi(y_true, y_pred, num_classes)"
   ]
  },
  {
   "cell_type": "code",
   "execution_count": 68,
   "id": "eacc0c29",
   "metadata": {},
   "outputs": [],
   "source": [
    "# 计算召回率\n",
    "def recall_score_single(y_true, y_pred, num_classes):\n",
    "    recall = torch.zeros(num_classes).to(y_true.device)\n",
    "    for i in range(num_classes):\n",
    "        tp = ((y_pred == i) & (y_true == i)).sum().item()\n",
    "        fn = ((y_pred != i) & (y_true == i)).sum().item()\n",
    "        recall[i] = tp / (tp + fn) if tp + fn > 0 else 0\n",
    "    return recall.mean().item()\n",
    "\n",
    "def recall_score_multi(y_true, y_pred, num_classes):\n",
    "    recall = torch.zeros(num_classes).to(y_true.device)\n",
    "    for i in range(num_classes):\n",
    "        tp = ((y_pred[:, i] == 1) & (y_true[:, i] == 1)).sum().item()\n",
    "        fn = ((y_pred[:, i] == 0) & (y_true[:, i] == 1)).sum().item()\n",
    "        recall[i] = tp / (tp + fn) if tp + fn > 0 else 0\n",
    "    return recall.mean().item()\n",
    "\n",
    "def recall_score(y_true, y_pred, num_classes, isMultiLabel):\n",
    "    if isMultiLabel == False:\n",
    "        return recall_score_single(y_true, y_pred, num_classes)\n",
    "    else:\n",
    "        return recall_score_multi(y_true, y_pred, num_classes)"
   ]
  },
  {
   "cell_type": "code",
   "execution_count": 69,
   "id": "49b4277d",
   "metadata": {},
   "outputs": [],
   "source": [
    "# 计算f1得分\n",
    "def f1_score_single(y_true, y_pred, num_classes):\n",
    "    precision = precision_score_single(y_true, y_pred, num_classes)\n",
    "    recall = recall_score_single(y_true, y_pred, num_classes)\n",
    "    return 2 * (precision * recall) / (precision + recall) if precision + recall > 0 else 0\n",
    "\n",
    "def f1_score_multi(y_true, y_pred, num_classes):\n",
    "    precision = precision_score_multi(y_true, y_pred, num_classes)\n",
    "    recall = recall_score_multi(y_true, y_pred, num_classes)\n",
    "    return 2 * (precision * recall) / (precision + recall) if precision + recall > 0 else 0\n",
    "\n",
    "def f1_score(y_true, y_pred, num_classes, isMultiLabel):\n",
    "    if isMultiLabel == False:\n",
    "        return f1_score_single(y_true, y_pred, num_classes)\n",
    "    else:\n",
    "        return f1_score_multi(y_true, y_pred, num_classes)"
   ]
  },
  {
   "cell_type": "markdown",
   "id": "dbac3083",
   "metadata": {},
   "source": [
    "### <span style=\"color:#4682B4\">1. 准确率 (Accuracy)</span>\n",
    "\n",
    "计算方式：accuracy_score(true_labels, predicted_labels)\n",
    "\n",
    "定义：准确率是分类器正确预测的样本数量占总样本数量的比例。\n",
    "\n",
    "公式：\n",
    "$$\n",
    "\\text { Accuracy }=\\frac{\\text { 正确预测的样本数 }}{\\text { 总样本数 }}=\\frac{T P+T N}{T P+T N+F P+F N}\n",
    "$$\n",
    "\n",
    "其中：\n",
    "\n",
    "TP（True Positive）：真正例，模型正确预测为正类的样本数。\n",
    "\n",
    "TN（True Negative）：真反例，模型正确预测为负类的样本数。\n",
    "\n",
    "FP（False Positive）：假正例，模型错误预测为正类的样本数。\n",
    "\n",
    "FN（False Negative）：假反例，模型错误预测为负类的样本数。\n",
    "\n",
    "### <span style=\"color:#4682B4\">2. 精确率 (Precision)</span>\n",
    "\n",
    "计算方式：precision_score(true_labels, predicted_labels, average='macro', zero_division=1)\n",
    "\n",
    "定义：精确率是分类器预测为正类（sentiment_output = 1）的样本中，实际为正类（1）的比例。也就是说，精确率衡量的是模型对预测为正类的样本是否准确。\n",
    "\n",
    "公式：\n",
    "$$\n",
    "\\text { Precision }=\\frac{T P}{T P+F P}\n",
    "$$\n",
    "\n",
    "### <span style=\"color:#4682B4\">3. 召回率 (Recall)</span>\n",
    "\n",
    "计算方式：recall_score(true_labels, predicted_labels, average='macro', zero_division=1)\n",
    "\n",
    "定义：召回率是分类器预测为正类的样本占实际正类样本的比例。也就是说，召回率衡量的是模型是否能够识别出所有正类样本。\n",
    "\n",
    "公式：\n",
    "$$\n",
    "\\text { Recall }=\\frac{T P}{T P+F N}\n",
    "$$\n",
    "\n",
    "### <span style=\"color:#4682B4\">4. F1 分数 (F1 Score)</span>\n",
    "\n",
    "F1 分数是精确率和召回率的调和平均数，用于在精确率和召回率之间找到一个平衡。它特别适用于类别不平衡的情况，因为它综合了精确率和召回率，能够更公平地评估模型。\n",
    "\n",
    "计算公式：\n",
    "$$\n",
    "\\text { F1 }=2 \\times \\frac{\\text { Precision } \\times \\text { Recall }}{\\text { Precision }+ \\text { Recall }}\n",
    "$$\n",
    " \n",
    "F1 值的范围是 0 到 1，越接近 1 说明模型的表现越好。"
   ]
  },
  {
   "cell_type": "markdown",
   "id": "b8af003b",
   "metadata": {},
   "source": [
    "### <span style=\"color:#4682B4\">封装成类：</span>"
   ]
  },
  {
   "cell_type": "code",
   "execution_count": 114,
   "id": "d41fef93",
   "metadata": {},
   "outputs": [],
   "source": [
    "class calc_metrics():\n",
    "    \"\"\"计算评价指标\"\"\"\n",
    "    def __init__(self, true_label, pred_label, class_num, isMultiLabel, device):\n",
    "        self.true_label = true_label\n",
    "        self.pred_label = pred_label\n",
    "        self.class_num = class_num\n",
    "        self.isMultiLabel = isMultiLabel\n",
    "        self.device = device\n",
    "        \n",
    "        \n",
    "    def compute_metrics(self):\n",
    "        self.accuracy_score = self.accuracy_score(self.true_label, self.pred_label, self.isMultiLabel)\n",
    "        self.precision_score = self.precision_score(self.true_label, self.pred_label, self.class_num, self.isMultiLabel)\n",
    "        self.recall_score = self.recall_score(self.true_label, self.pred_label, self.class_num, self.isMultiLabel)\n",
    "        self.f1_score = self.f1_score(self.true_label, self.pred_label, self.class_num, self.isMultiLabel)\n",
    "       \n",
    "    # accuracy score\n",
    "    def accuracy_score(self, true_label, pred_label, isMultiLabel):\n",
    "        if isMultiLabel == False:\n",
    "            return (true_label == pred_label).sum().item() / len(true_label)\n",
    "        else:\n",
    "            correct = (true_label == pred_label).astype(float)\n",
    "            accuracy = correct.sum() / correct.size\n",
    "            return accuracy.item()\n",
    "        \n",
    "    # precision score\n",
    "    def precision_score_single(self, true_label, pred_label, class_num):\n",
    "        true_label = torch.tensor(true_label).to(self.device)\n",
    "        pred_label = torch.tensor(pred_label).to(self.device)\n",
    "        \n",
    "        precision = torch.zeros(class_num).to(true_label.device)\n",
    "        for i in range(class_num):\n",
    "            tp = ((pred_label == i) & (true_label == i)).sum().item()\n",
    "            fp = ((pred_label == i) & (true_label != i)).sum().item()\n",
    "            precision[i] = tp / (tp + fp) if tp + fp > 0 else 0\n",
    "        return precision.mean().item()\n",
    "\n",
    "    def precision_score_multi(self, true_label, pred_label, class_num):\n",
    "        true_label = torch.tensor(true_label).to(self.device)\n",
    "        pred_label = torch.tensor(pred_label).to(self.device)\n",
    "        \n",
    "        precision = torch.zeros(class_num).to(true_label.device)\n",
    "        for i in range(class_num):\n",
    "            tp = ((pred_label[:, i] == 1) & (true_label[:, i] == 1)).sum().item()\n",
    "            fp = ((pred_label[:, i] == 1) & (true_label[:, i] == 0)).sum().item()\n",
    "            precision[i] = tp / (tp + fp) if tp + fp > 0 else 0\n",
    "        return precision.mean().item()\n",
    "\n",
    "    def precision_score(self, true_label, pred_label, class_num, isMultiLabel):\n",
    "        if isMultiLabel == False:\n",
    "            return self.precision_score_single(true_label, pred_label, class_num)\n",
    "        else:\n",
    "            return self.precision_score_multi(true_label, pred_label, class_num)\n",
    "      \n",
    "    # recall score\n",
    "    def recall_score_single(self, true_label, pred_label, class_num):\n",
    "        true_label = torch.tensor(true_label).to(self.device)\n",
    "        pred_label = torch.tensor(pred_label).to(self.device)\n",
    "        \n",
    "        recall = torch.zeros(class_num).to(true_label.device)\n",
    "        for i in range(class_num):\n",
    "            tp = ((pred_label == i) & (true_label == i)).sum().item()\n",
    "            fn = ((pred_label != i) & (true_label == i)).sum().item()\n",
    "            recall[i] = tp / (tp + fn) if tp + fn > 0 else 0\n",
    "        return recall.mean().item()\n",
    "\n",
    "    def recall_score_multi(self, true_label, pred_label, class_num):\n",
    "        true_label = torch.tensor(true_label).to(self.device)\n",
    "        pred_label = torch.tensor(pred_label).to(self.device)\n",
    "        \n",
    "        recall = torch.zeros(class_num).to(true_label.device)\n",
    "        for i in range(class_num):\n",
    "            tp = ((pred_label[:, i] == 1) & (true_label[:, i] == 1)).sum().item()\n",
    "            fn = ((pred_label[:, i] == 0) & (true_label[:, i] == 1)).sum().item()\n",
    "            recall[i] = tp / (tp + fn) if tp + fn > 0 else 0\n",
    "        return recall.mean().item()\n",
    "\n",
    "    def recall_score(self, true_label, pred_label, class_num, isMultiLabel):\n",
    "        if isMultiLabel == False:\n",
    "            return self.recall_score_single(true_label, pred_label, class_num)\n",
    "        else:\n",
    "            return self.recall_score_multi(true_label, pred_label, class_num)\n",
    "        \n",
    "    # f1 score\n",
    "    def f1_score_single(self, true_label, pred_label, class_num):\n",
    "        precision = self.precision_score_single(true_label, pred_label, class_num)\n",
    "        recall = self.recall_score_single(true_label, pred_label, class_num)\n",
    "        return 2 * (precision * recall) / (precision + recall) if precision + recall > 0 else 0\n",
    "\n",
    "    def f1_score_multi(self, true_label, pred_label, class_num):\n",
    "        precision = self.precision_score_multi(true_label, pred_label, class_num)\n",
    "        recall = self.recall_score_multi(true_label, pred_label, class_num)\n",
    "        return 2 * (precision * recall) / (precision + recall) if precision + recall > 0 else 0\n",
    "\n",
    "    def f1_score(self, true_label, pred_label, class_num, isMultiLabel):\n",
    "        if isMultiLabel == False:\n",
    "            return self.f1_score_single(true_label, pred_label, class_num)\n",
    "        else:\n",
    "            return self.f1_score_multi(true_label, pred_label, class_num)"
   ]
  },
  {
   "cell_type": "markdown",
   "id": "cd124fdb",
   "metadata": {},
   "source": [
    "## <span style=\"color:#FF6A6A\">② 实例化模型并训练：</span>"
   ]
  },
  {
   "cell_type": "code",
   "execution_count": 97,
   "id": "2af7026e",
   "metadata": {},
   "outputs": [],
   "source": [
    "# 实例化模型\n",
    "num_topic_labels, num_sentiment_labels = 10, 3\n",
    "net = MultiTaskBERT(num_topic_labels, num_sentiment_labels)"
   ]
  },
  {
   "cell_type": "code",
   "execution_count": 98,
   "id": "cd3197d2",
   "metadata": {},
   "outputs": [],
   "source": [
    "# 测试\n",
    "for X, y, z in train_iter:\n",
    "    input_ids, attention_mask = X\n",
    "    # 计算模型输出\n",
    "    topic_output, sentiment_output = net(input_ids, attention_mask)\n",
    "    break"
   ]
  },
  {
   "cell_type": "code",
   "execution_count": 99,
   "id": "dac501e2",
   "metadata": {},
   "outputs": [
    {
     "name": "stdout",
     "output_type": "stream",
     "text": [
      "torch.Size([256, 10])\n",
      "tensor([[ 0.6410, -0.1822, -0.3559,  0.1893, -0.2559,  0.0399,  0.2552, -0.4643,\n",
      "          0.2209,  0.0640],\n",
      "        [ 0.4617, -0.3528, -0.0476,  0.0760, -0.0750,  0.0755,  0.0973, -0.2711,\n",
      "          0.0958, -0.5704],\n",
      "        [ 0.0810, -0.2026,  0.0786, -0.3542, -0.2324, -0.3246,  0.1167, -0.2349,\n",
      "          0.3493, -0.5580],\n",
      "        [ 0.2796, -0.5499, -0.6277,  0.0985,  0.0240,  0.1109,  0.0102, -0.2068,\n",
      "         -0.0372, -0.2295],\n",
      "        [ 0.0483, -0.1314, -0.1214,  0.1890, -0.2736, -0.0234,  0.3136, -0.3337,\n",
      "          0.0945, -0.2475]], grad_fn=<SliceBackward0>)\n"
     ]
    }
   ],
   "source": [
    "print(topic_output.shape)\n",
    "print(topic_output[0:5])"
   ]
  },
  {
   "cell_type": "code",
   "execution_count": 100,
   "id": "8081d12e",
   "metadata": {},
   "outputs": [
    {
     "name": "stdout",
     "output_type": "stream",
     "text": [
      "torch.Size([256, 3])\n",
      "tensor([[ 0.0074, -0.3456,  0.2077],\n",
      "        [ 0.0362,  0.0826, -0.0398],\n",
      "        [-0.0509, -0.1642,  0.2658],\n",
      "        [-0.1909,  0.0173, -0.1883],\n",
      "        [-0.1985, -0.3581,  0.2542]], grad_fn=<SliceBackward0>)\n"
     ]
    }
   ],
   "source": [
    "print(sentiment_output.shape)\n",
    "print(sentiment_output[0:5])"
   ]
  },
  {
   "cell_type": "code",
   "execution_count": 101,
   "id": "87d4d512",
   "metadata": {},
   "outputs": [],
   "source": [
    "import torch.optim as optim\n",
    "import torch.nn as nn\n",
    "import numpy as np"
   ]
  },
  {
   "cell_type": "code",
   "execution_count": 102,
   "id": "bd8539fe",
   "metadata": {},
   "outputs": [],
   "source": [
    "# 定义优化器，Bert通常用较小的学习率\n",
    "optimizer = optim.Adam(net.parameters(), lr=2e-5)"
   ]
  },
  {
   "cell_type": "code",
   "execution_count": 103,
   "id": "18d329be",
   "metadata": {},
   "outputs": [],
   "source": [
    "# 多标签分类任务，使用二分类交叉熵损失\n",
    "topic_loss_func = nn.BCEWithLogitsLoss()  \n",
    "# 情感分类任务，使用标准交叉熵损失\n",
    "sentiment_loss_func = nn.CrossEntropyLoss()  "
   ]
  },
  {
   "cell_type": "code",
   "execution_count": 104,
   "id": "8f203d2f",
   "metadata": {
    "scrolled": true
   },
   "outputs": [
    {
     "data": {
      "text/plain": [
       "MultiTaskBERT(\n",
       "  (bert): BertModel(\n",
       "    (embeddings): BertEmbeddings(\n",
       "      (word_embeddings): Embedding(21128, 768, padding_idx=0)\n",
       "      (position_embeddings): Embedding(512, 768)\n",
       "      (token_type_embeddings): Embedding(2, 768)\n",
       "      (LayerNorm): LayerNorm((768,), eps=1e-12, elementwise_affine=True)\n",
       "      (dropout): Dropout(p=0.1, inplace=False)\n",
       "    )\n",
       "    (encoder): BertEncoder(\n",
       "      (layer): ModuleList(\n",
       "        (0-11): 12 x BertLayer(\n",
       "          (attention): BertAttention(\n",
       "            (self): BertSelfAttention(\n",
       "              (query): Linear(in_features=768, out_features=768, bias=True)\n",
       "              (key): Linear(in_features=768, out_features=768, bias=True)\n",
       "              (value): Linear(in_features=768, out_features=768, bias=True)\n",
       "              (dropout): Dropout(p=0.1, inplace=False)\n",
       "            )\n",
       "            (output): BertSelfOutput(\n",
       "              (dense): Linear(in_features=768, out_features=768, bias=True)\n",
       "              (LayerNorm): LayerNorm((768,), eps=1e-12, elementwise_affine=True)\n",
       "              (dropout): Dropout(p=0.1, inplace=False)\n",
       "            )\n",
       "          )\n",
       "          (intermediate): BertIntermediate(\n",
       "            (dense): Linear(in_features=768, out_features=3072, bias=True)\n",
       "            (intermediate_act_fn): GELUActivation()\n",
       "          )\n",
       "          (output): BertOutput(\n",
       "            (dense): Linear(in_features=3072, out_features=768, bias=True)\n",
       "            (LayerNorm): LayerNorm((768,), eps=1e-12, elementwise_affine=True)\n",
       "            (dropout): Dropout(p=0.1, inplace=False)\n",
       "          )\n",
       "        )\n",
       "      )\n",
       "    )\n",
       "    (pooler): BertPooler(\n",
       "      (dense): Linear(in_features=768, out_features=768, bias=True)\n",
       "      (activation): Tanh()\n",
       "    )\n",
       "  )\n",
       "  (dropout): Dropout(p=0.1, inplace=False)\n",
       "  (topic_classifier): Linear(in_features=768, out_features=10, bias=True)\n",
       "  (sentiment_classifier): Linear(in_features=768, out_features=3, bias=True)\n",
       "  (relu): ReLU()\n",
       ")"
      ]
     },
     "execution_count": 104,
     "metadata": {},
     "output_type": "execute_result"
    }
   ],
   "source": [
    "device = torch.device('cuda' if torch.cuda.is_available() else 'cpu')\n",
    "net.to(device)"
   ]
  },
  {
   "cell_type": "code",
   "execution_count": 115,
   "id": "ebd1abc9",
   "metadata": {},
   "outputs": [
    {
     "name": "stdout",
     "output_type": "stream",
     "text": [
      "Epoch 1/5\n",
      "  Avg Loss: 0.6571, Topic Loss: 0.2155, Sentiment Loss: 0.4415\n",
      "  Sentiment Accuracy: 0.8243, Topic Accuracy: 0.9223\n",
      "Epoch 2/5\n",
      "  Avg Loss: 0.5409, Topic Loss: 0.1917, Sentiment Loss: 0.3491\n",
      "  Sentiment Accuracy: 0.8685, Topic Accuracy: 0.9294\n",
      "Epoch 3/5\n",
      "  Avg Loss: 0.4523, Topic Loss: 0.1766, Sentiment Loss: 0.2758\n",
      "  Sentiment Accuracy: 0.8959, Topic Accuracy: 0.9352\n",
      "Epoch 4/5\n",
      "  Avg Loss: 0.3675, Topic Loss: 0.1630, Sentiment Loss: 0.2045\n",
      "  Sentiment Accuracy: 0.9263, Topic Accuracy: 0.9406\n",
      "Epoch 5/5\n",
      "  Avg Loss: 0.2977, Topic Loss: 0.1526, Sentiment Loss: 0.1451\n",
      "  Sentiment Accuracy: 0.9533, Topic Accuracy: 0.9459\n"
     ]
    }
   ],
   "source": [
    "num_epochs = 5\n",
    "\n",
    "# 保存每次epoch的各项指标\n",
    "epoch_loss = []\n",
    "epoch_topic_loss = []\n",
    "epoch_sentiment_loss = []\n",
    "\n",
    "epoch_topic_accuracy = []  \n",
    "epoch_topic_precision = []  \n",
    "epoch_topic_recall = []  \n",
    "epoch_topic_f1 = []  \n",
    "\n",
    "epoch_sentiment_accuracy = [] \n",
    "epoch_sentiment_precision = []  \n",
    "epoch_sentiment_recall = []  \n",
    "epoch_sentiment_f1 = []  \n",
    "\n",
    "\n",
    "\n",
    "for epoch in range(num_epochs):\n",
    "    net.train()  # 切换到训练模式\n",
    "    total_loss = 0.0\n",
    "    total_topic_loss = 0.0\n",
    "    total_sentiment_loss = 0.0\n",
    "    correct_sentiment = 0\n",
    "    total_sentiment = 0\n",
    "    correct_topic = 0\n",
    "    total_topic = 0\n",
    "    \n",
    "    predicted_topics_all = []  # 用于存储整个epoch的预测结果\n",
    "    y_all = []  # 用于存储整个epoch的真实标签\n",
    "    predicted_sentiments_all = []  # 用于存储整个epoch的情感预测结果\n",
    "    z_all = []  # 用于存储整个epoch的情感标签\n",
    "    \n",
    "    # 每个epoch遍历所有的batch\n",
    "    for X, y, z in train_iter:\n",
    "        input_ids, attention_mask = X\n",
    "        input_ids, attention_mask = input_ids.to(device), attention_mask.to(device)\n",
    "        y, z = y.to(device), z.to(device)\n",
    "        \n",
    "        # 计算模型输出\n",
    "        topic_output, sentiment_output = net(input_ids, attention_mask)\n",
    "        \n",
    "        # 计算 topic 和 sentiment 的损失\n",
    "        topic_loss = topic_loss_func(topic_output, y.float())  # y 是 multi-hot 标签\n",
    "        sentiment_loss = sentiment_loss_func(sentiment_output, z)  # z 是情感标签\n",
    "        \n",
    "        # 总损失是 topic 和 sentiment 损失之和\n",
    "        loss = topic_loss + sentiment_loss\n",
    "        \n",
    "        # 反向传播和优化\n",
    "        optimizer.zero_grad()\n",
    "        loss.backward()\n",
    "        optimizer.step()\n",
    "\n",
    "        # 计算整个epoch的总损失\n",
    "        total_loss += loss.item()\n",
    "        total_topic_loss += topic_loss.item()\n",
    "        total_sentiment_loss += sentiment_loss.item()\n",
    "\n",
    "        # 计算情感预测的准确度\n",
    "        _, predicted_sentiment = torch.max(sentiment_output, 1) # 从模型的输出 sentiment_output 中选择每个样本的最大概率对应的类别标签\n",
    "        correct_sentiment += (predicted_sentiment == z).sum().item()\n",
    "        total_sentiment += z.size(0)\n",
    "        \n",
    "        # 计算 topic 的指标\n",
    "        predicted_topic = (topic_output > 0.5).int() # 使用阈值 0.5 来判定是否为某个主题\n",
    "        correct_topic += (predicted_topic == y).sum().item() # 计算预测正确的标签数量\n",
    "        total_topic += y.size(0) * y.size(1)  # 计算总的标签数\n",
    "        \n",
    "        # 累积预测和标签\n",
    "        predicted_topics_all.append(predicted_topic.cpu().numpy())\n",
    "        y_all.append(y.cpu().numpy())\n",
    "        predicted_sentiments_all.append(predicted_sentiment.cpu().numpy())\n",
    "        z_all.append(z.cpu().numpy())\n",
    "\n",
    "    # 计算整个epoch的平均损失\n",
    "    avg_loss = total_loss / len(train_iter)\n",
    "    avg_topic_loss = total_topic_loss / len(train_iter)\n",
    "    avg_sentiment_loss = total_sentiment_loss / len(train_iter)\n",
    "    \n",
    "    # 将所有预测结果和真实标签拼接起来\n",
    "    predicted_topics_all = np.concatenate(predicted_topics_all, axis=0)\n",
    "    y_all = np.concatenate(y_all, axis=0)\n",
    "    predicted_sentiments_all = np.concatenate(predicted_sentiments_all, axis=0)\n",
    "    z_all = np.concatenate(z_all, axis=0)\n",
    "    \n",
    "    # 使用 calc_metrics 计算 topic 和 sentiment 的指标\n",
    "    topic_metrics = calc_metrics(y_all, predicted_topics_all, class_num=10, isMultiLabel=True, device=device)\n",
    "    topic_metrics.compute_metrics()\n",
    "    sentiment_metrics = calc_metrics(z_all, predicted_sentiments_all, class_num=3, isMultiLabel=False, device=device)  \n",
    "    sentiment_metrics.compute_metrics()\n",
    "    \n",
    "    # 计算 topic 的指标\n",
    "    topic_accuracy = topic_metrics.accuracy_score\n",
    "    topic_precision = topic_metrics.precision_score\n",
    "    topic_recall = topic_metrics.recall_score\n",
    "    topic_f1 = topic_metrics.f1_score\n",
    "\n",
    "    # 计算 sentiment 的指标\n",
    "    sentiment_accuracy = sentiment_metrics.accuracy_score\n",
    "    sentiment_precision = sentiment_metrics.precision_score\n",
    "    sentiment_recall = sentiment_metrics.recall_score\n",
    "    sentiment_f1 = sentiment_metrics.f1_score\n",
    "    \n",
    "    # 向list中添加每次epoch的指标，用于绘图\n",
    "    epoch_loss.append(avg_loss)\n",
    "    epoch_topic_loss.append(avg_topic_loss)\n",
    "    epoch_sentiment_loss.append(avg_sentiment_loss)\n",
    "    \n",
    "    epoch_topic_accuracy.append(topic_accuracy)\n",
    "    epoch_topic_precision.append(topic_precision)\n",
    "    epoch_topic_recall.append(topic_recall)\n",
    "    epoch_topic_f1.append(topic_f1)\n",
    "    \n",
    "    epoch_sentiment_accuracy.append(sentiment_accuracy)\n",
    "    epoch_sentiment_precision.append(sentiment_precision)\n",
    "    epoch_sentiment_recall.append(sentiment_recall)\n",
    "    epoch_sentiment_f1.append(sentiment_f1)\n",
    "    \n",
    "    print(f\"Epoch {epoch+1}/{num_epochs}\")\n",
    "    print(f\"  Avg Loss: {avg_loss:.4f}, Topic Loss: {avg_topic_loss:.4f}, Sentiment Loss: {avg_sentiment_loss:.4f}\")\n",
    "    print(f\"  Sentiment Accuracy: {sentiment_accuracy:.4f}, Topic Accuracy: {topic_accuracy:.4f}\")\n"
   ]
  },
  {
   "cell_type": "markdown",
   "id": "931f2258",
   "metadata": {},
   "source": [
    "## <span style=\"color:#FF6A6A\">③ 可视化训练过程：</span>"
   ]
  },
  {
   "cell_type": "code",
   "execution_count": 116,
   "id": "43ac9c56",
   "metadata": {},
   "outputs": [
    {
     "data": {
      "image/png": "[encoded data removed]",
      "text/plain": [
       "<Figure size 1800x600 with 3 Axes>"
      ]
     },
     "metadata": {},
     "output_type": "display_data"
    }
   ],
   "source": [
    "import matplotlib.pyplot as plt\n",
    "from matplotlib.ticker import MaxNLocator\n",
    "\n",
    "# 创建一个包含 3 个子图的画布，排列为 1 行 3 列\n",
    "fig, axs = plt.subplots(1, 3, figsize=(18, 6))\n",
    "\n",
    "# 绘制第一个子图：Loss变化（epoch_loss + epoch_topic_loss + epoch_sentiment_loss）\n",
    "axs[0].plot(epoch_loss, label='Total Loss', color='blue', linewidth=2)\n",
    "axs[0].plot(epoch_topic_loss, label='Topic Loss', color='green', linewidth=2)\n",
    "axs[0].plot(epoch_sentiment_loss, label='Sentiment Loss', color='red', linewidth=2)\n",
    "axs[0].set_title('Loss Curves')\n",
    "axs[0].set_xlabel('Epoch')\n",
    "axs[0].set_ylabel('Loss')\n",
    "axs[0].legend()\n",
    "axs[0].xaxis.set_major_locator(MaxNLocator(integer=True))  # 只显示整数刻度\n",
    "axs[0].grid(False)\n",
    "\n",
    "# 绘制第二个子图：Topic相关指标（epoch_topic_accuracy, epoch_topic_precision, epoch_topic_recall, epoch_topic_f1）\n",
    "axs[1].plot(epoch_topic_accuracy, label='Topic Accuracy', color='blue', linewidth=2)\n",
    "axs[1].plot(epoch_topic_precision, label='Topic Precision', color='green', linewidth=2)\n",
    "axs[1].plot(epoch_topic_recall, label='Topic Recall', color='orange', linewidth=2)\n",
    "axs[1].plot(epoch_topic_f1, label='Topic F1 Score', color='red', linewidth=2)\n",
    "axs[1].set_title('Topic Metrics')\n",
    "axs[1].set_xlabel('Epoch')\n",
    "axs[1].set_ylabel('Metrics')\n",
    "axs[1].legend()\n",
    "axs[1].xaxis.set_major_locator(MaxNLocator(integer=True))  # 只显示整数刻度\n",
    "axs[1].grid(False)\n",
    "\n",
    "# 绘制第三个子图：Sentiment相关指标（epoch_sentiment_accuracy, epoch_sentiment_precision, epoch_sentiment_recall, epoch_sentiment_f1）\n",
    "axs[2].plot(epoch_sentiment_accuracy, label='Sentiment Accuracy', color='blue', linewidth=2)\n",
    "axs[2].plot(epoch_sentiment_precision, label='Sentiment Precision', color='green', linewidth=2)\n",
    "axs[2].plot(epoch_sentiment_recall, label='Sentiment Recall', color='orange', linewidth=2)\n",
    "axs[2].plot(epoch_sentiment_f1, label='Sentiment F1 Score', color='red', linewidth=2)\n",
    "axs[2].set_title('Sentiment Metrics')\n",
    "axs[2].set_xlabel('Epoch')\n",
    "axs[2].set_ylabel('Metrics')\n",
    "axs[2].legend()\n",
    "axs[2].xaxis.set_major_locator(MaxNLocator(integer=True))  # 只显示整数刻度\n",
    "axs[2].grid(False)\n",
    "\n",
    "# 自动调整子图的间距\n",
    "plt.tight_layout()\n",
    "\n",
    "# 显示图形\n",
    "plt.show()"
   ]
  },
  {
   "cell_type": "markdown",
   "id": "95caff47",
   "metadata": {},
   "source": [
    "# 5 Test Model"
   ]
  },
  {
   "cell_type": "code",
   "execution_count": 120,
   "id": "dd3efdec",
   "metadata": {},
   "outputs": [
    {
     "name": "stdout",
     "output_type": "stream",
     "text": [
      "Test Topic Accuracy: 0.9644\n",
      "Test Topic Precision: 0.8950\n",
      "Test Topic Recall: 0.6756\n",
      "Test Topic F1 Score: 0.7700\n",
      "Test Sentiment Accuracy: 0.6691\n",
      "Test Sentiment Precision: 0.4468\n",
      "Test Sentiment Recall: 0.4298\n",
      "Test Sentiment F1 Score: 0.4381\n"
     ]
    }
   ],
   "source": [
    "# 设置模型为评估模式\n",
    "net.eval()\n",
    "\n",
    "# 初始化变量\n",
    "correct_sentiment = 0\n",
    "total_sentiment = 0\n",
    "correct_topic = 0\n",
    "total_topic = 0\n",
    "\n",
    "test_predicted_topics_all = []  # 用于存储整个epoch的预测结果\n",
    "test_y_all = []  # 用于存储整个epoch的真实标签\n",
    "test_predicted_sentiments_all = []  # 用于存储整个epoch的情感预测结果\n",
    "test_z_all = []  # 用于存储整个epoch的情感标签\n",
    "\n",
    "# 不计算梯度\n",
    "with torch.no_grad():\n",
    "    for X, y, z in test_iter:\n",
    "        input_ids, attention_mask = X\n",
    "        input_ids, attention_mask = input_ids.to(device), attention_mask.to(device)\n",
    "        y, z = y.to(device), z.to(device)\n",
    "\n",
    "        # 获取模型输出\n",
    "        topic_output, sentiment_output = net(input_ids, attention_mask)\n",
    "\n",
    "        # 计算情感预测的准确度\n",
    "        _, predicted_sentiment = torch.max(sentiment_output, 1) # 从模型的输出 sentiment_output 中选择每个样本的最大概率对应的类别标签\n",
    "        correct_sentiment += (predicted_sentiment == z).sum().item()\n",
    "        total_sentiment += z.size(0)\n",
    "        \n",
    "        # 计算 topic 的指标\n",
    "        predicted_topic = (topic_output > 0).int() # 使用阈值 0来判定是否为某个主题（这里由于我没有relu，输出在[-1, 1]之间，所以选择0）\n",
    "        correct_topic += (predicted_topic == y).sum().item() # 计算预测正确的标签数量\n",
    "        total_topic += y.size(0) * y.size(1)  # 计算总的标签数\n",
    "        \n",
    "        # 累积预测和标签\n",
    "        test_predicted_topics_all.append(predicted_topic.cpu().numpy())\n",
    "        test_y_all.append(y.cpu().numpy())\n",
    "        test_predicted_sentiments_all.append(predicted_sentiment.cpu().numpy())\n",
    "        test_z_all.append(z.cpu().numpy())\n",
    "\n",
    "# 将所有预测结果和真实标签拼接起来\n",
    "test_predicted_topics_all = np.concatenate(test_predicted_topics_all, axis=0)\n",
    "test_y_all = np.concatenate(test_y_all, axis=0)\n",
    "test_predicted_sentiments_all = np.concatenate(test_predicted_sentiments_all, axis=0)\n",
    "test_z_all = np.concatenate(test_z_all, axis=0)\n",
    "\n",
    "# 使用 calc_metrics 计算 topic 和 sentiment 的指标\n",
    "test_topic_metrics = calc_metrics(test_y_all, test_predicted_topics_all, class_num=10, isMultiLabel=True, device=device)\n",
    "test_topic_metrics.compute_metrics()\n",
    "test_sentiment_metrics = calc_metrics(test_z_all, test_predicted_sentiments_all, class_num=3, isMultiLabel=False, device=device)  \n",
    "test_sentiment_metrics.compute_metrics()\n",
    "\n",
    "# 计算 topic 的指标\n",
    "test_topic_accuracy = test_topic_metrics.accuracy_score\n",
    "test_topic_precision = test_topic_metrics.precision_score\n",
    "test_topic_recall = test_topic_metrics.recall_score\n",
    "test_topic_f1 = test_topic_metrics.f1_score\n",
    "\n",
    "# 计算 sentiment 的指标\n",
    "test_sentiment_accuracy = test_sentiment_metrics.accuracy_score\n",
    "test_sentiment_precision = test_sentiment_metrics.precision_score\n",
    "test_sentiment_recall = test_sentiment_metrics.recall_score\n",
    "test_sentiment_f1 = test_sentiment_metrics.f1_score\n",
    "\n",
    "# 输出准确率\n",
    "print(f\"Test Topic Accuracy: {test_topic_accuracy:.4f}\")\n",
    "print(f\"Test Topic Precision: {test_topic_precision:.4f}\")\n",
    "print(f\"Test Topic Recall: {test_topic_recall:.4f}\")\n",
    "print(f\"Test Topic F1 Score: {test_topic_f1:.4f}\")\n",
    "\n",
    "print(f\"Test Sentiment Accuracy: {test_sentiment_accuracy:.4f}\")\n",
    "print(f\"Test Sentiment Precision: {test_sentiment_precision:.4f}\")\n",
    "print(f\"Test Sentiment Recall: {test_sentiment_recall:.4f}\")\n",
    "print(f\"Test Sentiment F1 Score: {test_sentiment_f1:.4f}\")"
   ]
  },
  {
   "cell_type": "code",
   "execution_count": 118,
   "id": "b21d56be",
   "metadata": {},
   "outputs": [
    {
     "name": "stdout",
     "output_type": "stream",
     "text": [
      "Test Topic Accuracy: 0.9608\n",
      "Test Topic Precision: 0.9212\n",
      "Test Topic Recall: 0.5987\n",
      "Test Topic F1 Score: 0.7257\n",
      "Test Sentiment Accuracy: 0.6691\n",
      "Test Sentiment Precision: 0.4468\n",
      "Test Sentiment Recall: 0.4298\n",
      "Test Sentiment F1 Score: 0.4381\n"
     ]
    }
   ],
   "source": [
    "# 输出准确率\n",
    "print(f\"Test Topic Accuracy: {test_topic_accuracy:.4f}\")\n",
    "print(f\"Test Topic Precision: {test_topic_precision:.4f}\")\n",
    "print(f\"Test Topic Recall: {test_topic_recall:.4f}\")\n",
    "print(f\"Test Topic F1 Score: {test_topic_f1:.4f}\")\n",
    "\n",
    "print(f\"Test Sentiment Accuracy: {test_sentiment_accuracy:.4f}\")\n",
    "print(f\"Test Sentiment Precision: {test_sentiment_precision:.4f}\")\n",
    "print(f\"Test Sentiment Recall: {test_sentiment_recall:.4f}\")\n",
    "print(f\"Test Sentiment F1 Score: {test_sentiment_f1:.4f}\")"
   ]
  }
 ],
 "metadata": {
  "kernelspec": {
   "display_name": "Python [conda env:llm_stage0_env]",
   "language": "python",
   "name": "conda-env-llm_stage0_env-py"
  },
  "language_info": {
   "codemirror_mode": {
    "name": "ipython",
    "version": 3
   },
   "file_extension": ".py",
   "mimetype": "text/x-python",
   "name": "python",
   "nbconvert_exporter": "python",
   "pygments_lexer": "ipython3",
   "version": "3.9.21"
  }
 },
 "nbformat": 4,
 "nbformat_minor": 5
}
